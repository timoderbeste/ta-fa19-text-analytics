{
 "cells": [
  {
   "cell_type": "markdown",
   "id": "d99c2524",
   "metadata": {},
   "source": [
    "# Lab 2 - GRU and text classification"
   ]
  },
  {
   "cell_type": "markdown",
   "id": "9dcbdb72",
   "metadata": {},
   "source": [
    "## Structure of weights of GRU\n",
    "Gated Recurrent Unit (GRU) is a simplified variation on the LSTM designed to solve the vanishing gradient problem. It uses two gates: update gate and reset gate. \n",
    "\n",
    "### Update gate\n",
    "$$\n",
    "z_t = \\sigma(W^{(z)}x_t + U^{(z)}h_{t-1})\n",
    "$$\n",
    "\n",
    "$z_t$ is a value between $0$ and $1$, indicating how much information from the input at time step $t$, i.e. $x_t$, should be preserved.\n",
    "\n",
    "### Reset gate\n",
    "$$\n",
    "r_t = \\sigma(W^{(r)}x_t + U^{(r)}h_{t-1})\n",
    "$$\n",
    "$r_t$ us a value between $0$ and $1$, indicating how much information from the past, i.e. $h_{t-1}$, should be forgotten. \n",
    "\n",
    "### Preliminary current memory content\n",
    "$$\n",
    "h'_t = \\tanh(Wx_t + r_t \\odot Uh_{t-1})\n",
    "$$\n",
    "The preliminary current memory is composed of new memory content, which involves the input $x_t$, as well as information from the past, filtered by the reset gate.\n",
    "\n",
    "### Final current memory content\n",
    "$$\n",
    "h_t = z_t \\odot h_{t-1} + (1 - z_t) \\odot h'_t\n",
    "$$\n",
    "The final current memory is based on the weighted combination of information from the past, i.e. $h_{t-1}$, and the preliminary current memory content, i.e. $h'_t$."
   ]
  },
  {
   "cell_type": "markdown",
   "id": "b7153ac1",
   "metadata": {},
   "source": [
    "## Classification with GRU"
   ]
  },
  {
   "cell_type": "markdown",
   "id": "78212388",
   "metadata": {},
   "source": [
    "### Setup"
   ]
  },
  {
   "cell_type": "code",
   "execution_count": 1,
   "id": "ed08efdc",
   "metadata": {},
   "outputs": [
    {
     "name": "stderr",
     "output_type": "stream",
     "text": [
      "2022-10-12 20:11:03.820678: I tensorflow/core/platform/cpu_feature_guard.cc:193] This TensorFlow binary is optimized with oneAPI Deep Neural Network Library (oneDNN) to use the following CPU instructions in performance-critical operations:  AVX2 FMA\n",
      "To enable them in other operations, rebuild TensorFlow with the appropriate compiler flags.\n"
     ]
    }
   ],
   "source": [
    "import numpy as np\n",
    "import tensorflow_datasets as tfds\n",
    "import tensorflow as tf\n",
    "\n",
    "tfds.disable_progress_bar()"
   ]
  },
  {
   "cell_type": "code",
   "execution_count": 2,
   "id": "affb58c0",
   "metadata": {},
   "outputs": [],
   "source": [
    "%matplotlib inline\n",
    "import matplotlib.pyplot as plt\n",
    "\n",
    "def plot_graphs(history, metric):\n",
    "    plt.plot(history.history[metric])\n",
    "    plt.plot(history.history['val_' + metric], '')\n",
    "    plt.xlabel(\"Epochs\")\n",
    "    plt.ylabel(metric)\n",
    "    plt.legend([metric, 'val_'+metric])\n",
    "    plt.show()"
   ]
  },
  {
   "cell_type": "markdown",
   "id": "2a015169",
   "metadata": {},
   "source": [
    "### Prepare the data\n",
    "For this example, we will use the yelp polarity review dataset. You can find details about the dataset [here](https://www.tensorflow.org/datasets/catalog/yelp_polarity_reviews)."
   ]
  },
  {
   "cell_type": "code",
   "execution_count": 3,
   "id": "da635e4a",
   "metadata": {},
   "outputs": [
    {
     "name": "stdout",
     "output_type": "stream",
     "text": [
      "(TensorSpec(shape=(), dtype=tf.string, name=None), TensorSpec(shape=(), dtype=tf.int64, name=None))\n"
     ]
    },
    {
     "name": "stderr",
     "output_type": "stream",
     "text": [
      "2022-10-12 20:11:07.529880: I tensorflow/core/platform/cpu_feature_guard.cc:193] This TensorFlow binary is optimized with oneAPI Deep Neural Network Library (oneDNN) to use the following CPU instructions in performance-critical operations:  AVX2 FMA\n",
      "To enable them in other operations, rebuild TensorFlow with the appropriate compiler flags.\n"
     ]
    }
   ],
   "source": [
    "dataset, info = tfds.load(\"yelp_polarity_reviews\", with_info=True, as_supervised=True)\n",
    "train_dataset, test_dataset = dataset[\"train\"], dataset[\"test\"]\n",
    "\n",
    "print(train_dataset.element_spec)"
   ]
  },
  {
   "cell_type": "markdown",
   "id": "0d89ccd9",
   "metadata": {},
   "source": [
    "We can examine the content of the dataset. Then, we can shuffle the data and create batches for training."
   ]
  },
  {
   "cell_type": "code",
   "execution_count": 4,
   "id": "73982adc",
   "metadata": {
    "scrolled": false
   },
   "outputs": [
    {
     "name": "stdout",
     "output_type": "stream",
     "text": [
      "example\t tf.Tensor(b\"The Groovy P. and I ventured to his old stomping grounds for lunch today.  The '5 and Diner' on 16th St and Colter left me with little to ask for.  Before coming here I had a preconceived notion that 5 & Diners were dirty and nasty. Not the case at all.\\\\n\\\\nWe walk in and let the waitress know we want to sit outside (since it's so nice and they had misters).  We get two different servers bringing us stuff (talk about service) and I ask the one waitress for recommendations.  I didn't listen to her, of course, and ordered the Southwestern Burger w/ coleslaw and started with a nice stack of rings.\\\\n\\\\nThe Onion Rings were perfectly cooked.  They looked like they were prepackaged, but they were very crispy and I could actually bite through the onion without pulling the entire thing out (don't you hate that?!!!)\\\\n\\\\nThe Southwestern Burger was order Medium Rare and was cooked accordingly.  Soft, juicy, and pink with a nice crispy browned outer layer that can only be achieved on a well used grill.  The creaminess of the chipotle mayo paired beautifully with the green chiles.  Unfortunately, because I ate too many onion rings, I couldn't finish my burger.  What a shame!\\\\n\\\\nThe Coleslaw was just how I like it.  It's hard to find a really good coleslaw.  I prefer mine to be slightly sweet, not sour.  Too much vinegar in slaw ruins it in my opinion.  This slaw had the perfect marriage of mayo, vinegar, and sugar. Not to mention carrots...\\\\n\\\\nMy experience here was great!  The servers were top notch and kept my water full the entire time and actually chatted with us for a few minutes.\\\\n\\\\nThere is an artist guy named Ross who has been there every day for 5393 days straight. No, not an employee.  He goes there and does his art! He hasn't missed a SINGLE day!!! That's like... 15 years! So if you wanna seem to be 'in the know' ask where Ross is... They'll be able to tell you.\\\\n\\\\nTime for a nap!\", shape=(), dtype=string)\n",
      "label\t tf.Tensor(1, shape=(), dtype=int64)\n",
      "()\n"
     ]
    }
   ],
   "source": [
    "for example, label in train_dataset.take(1):\n",
    "    print(\"example\\t\", example)\n",
    "    print(\"label\\t\", label)\n",
    "    \n",
    "print(example.shape)"
   ]
  },
  {
   "cell_type": "code",
   "execution_count": 5,
   "id": "54839727",
   "metadata": {},
   "outputs": [],
   "source": [
    "BUFFER_SIZE = 10000\n",
    "BATCH_SIZE = 64\n",
    "\n",
    "train_dataset = train_dataset.shuffle(BUFFER_SIZE).batch(BATCH_SIZE).prefetch(tf.data.AUTOTUNE)\n",
    "test_dataset = test_dataset.batch(BATCH_SIZE).prefetch(tf.data.AUTOTUNE)"
   ]
  },
  {
   "cell_type": "code",
   "execution_count": 6,
   "id": "dd76394d",
   "metadata": {},
   "outputs": [
    {
     "name": "stdout",
     "output_type": "stream",
     "text": [
      "texts:  [b\"I used to work with Lance. Great to see he's gone to start his new life and excited to see him living his dream. I stopped in for dinner on Saturday and Sunday. Huge selection of beers. I love the Flights and the  Fried Apples and Vanilla ice cream. Yummy.\"\n",
      " b'Open, free place to create and collaborate. Try a Wednesday night \\\\\"\"hacknight\\\\\"\" or Wednesday \\\\\"\"brownbag\\\\\"\" lunch session for your first time. Just walk in, find an open desk, get on the free wi-fi and chat with those around you.'\n",
      " b\"They do not have bridal gowns, just all the extras, including the biggest selection of bridesmaid dresses in the Valley from every designer you've been pinning - it's worth the drive! \\\\n\\\\nIf, like the upset bridezillas who gave low ratings for customer service issues, you need to be wooed while picking out an ugly dress you will never wear again, by all means, go somewhere else. It is low frills - and in fact, the first time I went there, I was told to just go home and order online - but again, the biggest selection PLUS the lowest prices. The second time I went, the sales girl was extremely helpful with my indecisive bridefriend, pulling together color schemes and explaining all the materials to us and we actually didn't end up ordering from them, but she got the bride on track and for that, I am eternally grateful.\\\\n\\\\nLet's be honest, bridesmaids dresses are a necessary evil, so why not go to the WAS, have some fun with your girlfriends having your run of the place (it's so big and I have not seen it crowded) and get a cheap one?  \\\\n\\\\nThe only negative is that the dress I ordered took a really long time to arrive, like longer than quoted, like it came in two weeks before the wedding. The wedding was out of state and the other bridesmaids actually ended up ordering from WAS as well because it was the cheapest option, but they ordered theirs even later and it took plenty of upset mother-of-the-bride calls to ensure they arrived on time. Now, if that's on the manufacturer or the store is unknown, but just proceed with caution and order way early just in case.\"]\n",
      "\n",
      "labels:  [1 1 1]\n"
     ]
    }
   ],
   "source": [
    "for example, label in train_dataset.take(1):\n",
    "  print('texts: ', example.numpy()[:3])\n",
    "  print()\n",
    "  print('labels: ', label.numpy()[:3])"
   ]
  },
  {
   "cell_type": "markdown",
   "id": "256de3c7",
   "metadata": {},
   "source": [
    "Tensorflow Keras provides `TextVectorization`, a layer/class for processing and encoding text into tokens for training. We will use its default version in this example. \n",
    "\n",
    "First, we will use the `adapt` method to set the vocabulary based on `train_dataset`. "
   ]
  },
  {
   "cell_type": "code",
   "execution_count": 7,
   "id": "02155adc",
   "metadata": {},
   "outputs": [],
   "source": [
    "VOCAB_SIZE = 5000\n",
    "text_vectorizer = tf.keras.layers.TextVectorization(max_tokens=VOCAB_SIZE)\n",
    "text_vectorizer.adapt(train_dataset.map(lambda text, label: text))"
   ]
  },
  {
   "cell_type": "markdown",
   "id": "e6e5efe4",
   "metadata": {},
   "source": [
    "Once that is done, we will encode texts into indices. By default, the tensors of indices are 0-padded to the longest sequence in the batch, if we do not set a fixed `output_sequence_length`."
   ]
  },
  {
   "cell_type": "code",
   "execution_count": 8,
   "id": "f117fa6f",
   "metadata": {},
   "outputs": [
    {
     "name": "stdout",
     "output_type": "stream",
     "text": [
      "tf.Tensor(\n",
      "[b\"I used to work with Lance. Great to see he's gone to start his new life and excited to see him living his dream. I stopped in for dinner on Saturday and Sunday. Huge selection of beers. I love the Flights and the  Fried Apples and Vanilla ice cream. Yummy.\"\n",
      " b'Open, free place to create and collaborate. Try a Wednesday night \\\\\"\"hacknight\\\\\"\" or Wednesday \\\\\"\"brownbag\\\\\"\" lunch session for your first time. Just walk in, find an open desk, get on the free wi-fi and chat with those around you.'\n",
      " b\"They do not have bridal gowns, just all the extras, including the biggest selection of bridesmaid dresses in the Valley from every designer you've been pinning - it's worth the drive! \\\\n\\\\nIf, like the upset bridezillas who gave low ratings for customer service issues, you need to be wooed while picking out an ugly dress you will never wear again, by all means, go somewhere else. It is low frills - and in fact, the first time I went there, I was told to just go home and order online - but again, the biggest selection PLUS the lowest prices. The second time I went, the sales girl was extremely helpful with my indecisive bridefriend, pulling together color schemes and explaining all the materials to us and we actually didn't end up ordering from them, but she got the bride on track and for that, I am eternally grateful.\\\\n\\\\nLet's be honest, bridesmaids dresses are a necessary evil, so why not go to the WAS, have some fun with your girlfriends having your run of the place (it's so big and I have not seen it crowded) and get a cheap one?  \\\\n\\\\nThe only negative is that the dress I ordered took a really long time to arrive, like longer than quoted, like it came in two weeks before the wedding. The wedding was out of state and the other bridesmaids actually ended up ordering from WAS as well because it was the cheapest option, but they ordered theirs even later and it took plenty of upset mother-of-the-bride calls to ensure they arrived on time. Now, if that's on the manufacturer or the store is unknown, but just proceed with caution and order way early just in case.\"], shape=(3,), dtype=string)\n",
      "[[  4 290   5 ...   0   0   0]\n",
      " [326 255  31 ...   0   0   0]\n",
      " [ 19  82  22 ...   0   0   0]]\n",
      "(3, 656)\n"
     ]
    }
   ],
   "source": [
    "encoded_example = text_vectorizer(example)[:3].numpy()\n",
    "print(example[:3])\n",
    "print(encoded_example)\n",
    "print(encoded_example.shape)"
   ]
  },
  {
   "cell_type": "markdown",
   "id": "6c2faaca",
   "metadata": {},
   "source": [
    "### Build the classification model\n",
    "We will employ `tf.keras.Sequential` to combine a sequence of Keras layers to build the model. \n",
    "\n",
    "First, we use `TextVectorization` layer to convert text to a sequence of token indicies, as is shown above. \n",
    "\n",
    "Then, we add a `Embedding` layer that can be trained to produce a vector for each token. This adopts the idea of Word2Vec to reduce the dimension of word representations (i.e. instead of one-hot encoding vector whose length is the size of the vocabulary, we have a smaller but more informational word vectors). \n",
    "\n",
    "After that, we utilize a recurrent neural network (RNN), in this example, a GRU, to process sequence input by iterating through the elements. Since we are approaching a text classification task, we will process the input both forward and backward through the RNN layer to obtain better representations on the text sequences. \n",
    "\n",
    "Lastly, once we obtain the text representations as single vectors using RNN, we use `tf.keras.layers.Dense` to do some further learning on the data, and generate a single logit as the classification output."
   ]
  },
  {
   "cell_type": "code",
   "execution_count": 9,
   "id": "afcef8c9",
   "metadata": {},
   "outputs": [],
   "source": [
    "model = tf.keras.Sequential([\n",
    "    text_vectorizer, \n",
    "    tf.keras.layers.Embedding(\n",
    "        input_dim=len(text_vectorizer.get_vocabulary()),\n",
    "        output_dim=256,\n",
    "        mask_zero=True\n",
    "    ),\n",
    "    tf.keras.layers.Bidirectional(tf.keras.layers.GRU(256)),\n",
    "    tf.keras.layers.Dense(512),\n",
    "    tf.keras.layers.Dense(256),\n",
    "    tf.keras.layers.Dense(64),\n",
    "    tf.keras.layers.Dense(1),\n",
    "])"
   ]
  },
  {
   "cell_type": "markdown",
   "id": "eb5556fa",
   "metadata": {},
   "source": [
    "Now we will check if the model produces expected output with a sample text, and we will compile the Keras model to configure the training process. "
   ]
  },
  {
   "cell_type": "code",
   "execution_count": 10,
   "id": "9722cc6b",
   "metadata": {
    "scrolled": true
   },
   "outputs": [
    {
     "name": "stdout",
     "output_type": "stream",
     "text": [
      "1/1 [==============================] - 2s 2s/step\n",
      "[[-0.00301512]]\n"
     ]
    }
   ],
   "source": [
    "sample_text = \"Ate dinner here a week ago.  They advertised a free buffet for happy hour but turns out it is nothing more than chips and salsa.   They also have a fruit platter but who is going to eat that with the cantaloupe killing so many people. When we saw the \\\\\"\"Buffet\\\\\"\" we decided to try dinner.  Did not like the food. Just a tiny step above fast food.  The side dish was sone kind of noodles but they were cut up in about 1 inch pieces.  The beans were mashed and I almost gagged on them.  The chile relleno was the best part of the meal but still not up to par with the Barrio Cafe,  I do not plan on going back here again.  Can\\'t believe their quality of food since they are located in a high class neighborhood.\\\\nTheir adsvertising photos below are terrible.  Photgrapher used very bad lighting and it shows.\"\n",
    "predictions = model.predict(np.array([sample_text]))\n",
    "print(predictions)"
   ]
  },
  {
   "cell_type": "code",
   "execution_count": 11,
   "id": "ecc786ed",
   "metadata": {},
   "outputs": [],
   "source": [
    "model.compile(loss=tf.keras.losses.BinaryCrossentropy(from_logits=True), optimizer=tf.keras.optimizers.Adam(1e-4), metrics=[\"accuracy\"])"
   ]
  },
  {
   "cell_type": "markdown",
   "id": "7b8f9f4d",
   "metadata": {},
   "source": [
    "### Train the model"
   ]
  },
  {
   "cell_type": "code",
   "execution_count": 12,
   "id": "464b705d",
   "metadata": {
    "scrolled": true
   },
   "outputs": [
    {
     "name": "stdout",
     "output_type": "stream",
     "text": [
      "Epoch 1/10\n",
      "100/100 [==============================] - 264s 3s/step - loss: 0.6479 - accuracy: 0.5539 - val_loss: 0.4300 - val_accuracy: 0.7500\n",
      "Epoch 2/10\n",
      "100/100 [==============================] - 250s 3s/step - loss: 0.3606 - accuracy: 0.8356 - val_loss: 0.3533 - val_accuracy: 0.8594\n",
      "Epoch 3/10\n",
      "100/100 [==============================] - 260s 3s/step - loss: 0.2417 - accuracy: 0.8995 - val_loss: 0.2923 - val_accuracy: 0.8750\n",
      "Epoch 4/10\n",
      "100/100 [==============================] - 246s 2s/step - loss: 0.1912 - accuracy: 0.9264 - val_loss: 0.3682 - val_accuracy: 0.8438\n",
      "Epoch 5/10\n",
      "100/100 [==============================] - 264s 3s/step - loss: 0.1795 - accuracy: 0.9289 - val_loss: 0.2677 - val_accuracy: 0.9062\n",
      "Epoch 6/10\n",
      "100/100 [==============================] - 269s 3s/step - loss: 0.1606 - accuracy: 0.9328 - val_loss: 0.3364 - val_accuracy: 0.8906\n",
      "Epoch 7/10\n",
      "100/100 [==============================] - 261s 3s/step - loss: 0.1382 - accuracy: 0.9461 - val_loss: 0.3400 - val_accuracy: 0.8906\n",
      "Epoch 8/10\n",
      "100/100 [==============================] - 261s 3s/step - loss: 0.1164 - accuracy: 0.9563 - val_loss: 0.2740 - val_accuracy: 0.8750\n",
      "Epoch 9/10\n",
      "100/100 [==============================] - 263s 3s/step - loss: 0.1085 - accuracy: 0.9597 - val_loss: 0.4716 - val_accuracy: 0.8906\n",
      "Epoch 10/10\n",
      "100/100 [==============================] - 266s 3s/step - loss: 0.1008 - accuracy: 0.9653 - val_loss: 0.4242 - val_accuracy: 0.8906\n"
     ]
    }
   ],
   "source": [
    "history = model.fit(train_dataset.take(100), epochs=10, validation_data=test_dataset.take(10), validation_steps=1)"
   ]
  },
  {
   "cell_type": "code",
   "execution_count": 13,
   "id": "eb6de458",
   "metadata": {
    "scrolled": true
   },
   "outputs": [
    {
     "name": "stdout",
     "output_type": "stream",
     "text": [
      "594/594 [==============================] - 394s 663ms/step - loss: 0.3032 - accuracy: 0.8971\n"
     ]
    }
   ],
   "source": [
    "test_loss, test_acc = model.evaluate(test_dataset)"
   ]
  },
  {
   "cell_type": "code",
   "execution_count": 14,
   "id": "32b70213",
   "metadata": {},
   "outputs": [
    {
     "name": "stdout",
     "output_type": "stream",
     "text": [
      "Test Loss: 0.3031643331050873\n",
      "Test Accuracy: 0.8970789313316345\n"
     ]
    }
   ],
   "source": [
    "print('Test Loss:', test_loss)\n",
    "print('Test Accuracy:', test_acc)"
   ]
  },
  {
   "cell_type": "code",
   "execution_count": 15,
   "id": "5568a2ce",
   "metadata": {},
   "outputs": [
    {
     "name": "stdout",
     "output_type": "stream",
     "text": [
      "1/1 [==============================] - 2s 2s/step\n",
      "[[-5.9597483]]\n"
     ]
    }
   ],
   "source": [
    "predictions = model.predict(np.array([sample_text]))\n",
    "print(predictions)"
   ]
  },
  {
   "cell_type": "code",
   "execution_count": 16,
   "id": "24af7640",
   "metadata": {},
   "outputs": [
    {
     "data": {
      "image/png": "[encoded data removed]",
      "text/plain": [
       "<Figure size 640x480 with 1 Axes>"
      ]
     },
     "metadata": {},
     "output_type": "display_data"
    },
    {
     "data": {
      "image/png": "[encoded data removed]",
      "text/plain": [
       "<Figure size 640x480 with 1 Axes>"
      ]
     },
     "metadata": {},
     "output_type": "display_data"
    }
   ],
   "source": [
    "plot_graphs(history, 'accuracy')\n",
    "plot_graphs(history, 'loss')"
   ]
  },
  {
   "cell_type": "markdown",
   "id": "5345d23b",
   "metadata": {},
   "source": [
    "## Hands on\n",
    "Find a text dataset appropriate for text classification you are interested in available in the [tensorflow dataset collection](https://www.tensorflow.org/datasets/catalog/overview). Try training different versions of RNN models (e.g. LSTM and GRU) and compare the training results such as the loss curves as well as relevant metrics (e.g. accuracy, F1, etc.).\n",
    "\n",
    "I would suggest that you do this exercise in the iPython console, which is similar to Jupyter Notebook, but works in the terminal. This way you can also try train your models on one of the deepdish servers. \n",
    "\n",
    "### TODOs\n",
    "1. Find and download a dataset you are interested in, and examine the dataset content.\n",
    "2. Build a `TextVectorizer` for your dataset.\n",
    "3. Setup classification models based on uni-directional LSTM, uni-directional GRU, bi-directional LSTM and bi-directonal GRU. \n",
    "4. Run training and evaluation on these four models and collect results. \n",
    "5. Compare the performance in terms of relevant metrics and note the model with best performance. "
   ]
  }
 ],
 "metadata": {
  "kernelspec": {
   "display_name": "Python 3 (ipykernel)",
   "language": "python",
   "name": "python3"
  },
  "language_info": {
   "codemirror_mode": {
    "name": "ipython",
    "version": 3
   },
   "file_extension": ".py",
   "mimetype": "text/x-python",
   "name": "python",
   "nbconvert_exporter": "python",
   "pygments_lexer": "ipython3",
   "version": "3.7.13"
  }
 },
 "nbformat": 4,
 "nbformat_minor": 5
}
