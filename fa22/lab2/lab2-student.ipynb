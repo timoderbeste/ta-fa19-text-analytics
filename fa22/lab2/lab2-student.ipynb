{
 "cells": [
  {
   "cell_type": "markdown",
   "id": "12de3c1f",
   "metadata": {},
   "source": [
    "# Lab 2 - GRU and text classification"
   ]
  },
  {
   "cell_type": "markdown",
   "id": "572196ac",
   "metadata": {},
   "source": [
    "## Structure of weights of GRU\n",
    "Gated Recurrent Unit (GRU) is a simplified variation on the LSTM designed to solve the vanishing gradient problem. It uses two gates: update gate and reset gate. \n",
    "\n",
    "### Update gate\n",
    "$$\n",
    "z_t = \\sigma(W^{(z)}x_t + U^{(z)}h_{t-1})\n",
    "$$\n",
    "\n",
    "$z_t$ is a value between $0$ and $1$, indicating how much information from the input at time step $t$, i.e. $x_t$, should be preserved.\n",
    "\n",
    "### Reset gate\n",
    "$$\n",
    "r_t = \\sigma(W^{(r)}x_t + U^{(r)}h_{t-1})\n",
    "$$\n",
    "$r_t$ us a value between $0$ and $1$, indicating how much information from the past, i.e. $h_{t-1}$, should be forgotten. \n",
    "\n",
    "### Preliminary current memory content\n",
    "$$\n",
    "h'_t = \\tanh(Wx_t + r_t \\odot Uh_{t-1})\n",
    "$$\n",
    "The preliminary current memory is composed of new memory content, which involves the input $x_t$, as well as information from the past, filtered by the reset gate.\n",
    "\n",
    "### Final current memory content\n",
    "$$\n",
    "h_t = z_t \\odot h_{t-1} + (1 - z_t) \\odot h'_t\n",
    "$$\n",
    "The final current memory is based on the weighted combination of information from the past, i.e. $h_{t-1}$, and the preliminary current memory content, i.e. $h'_t$."
   ]
  },
  {
   "cell_type": "markdown",
   "id": "d09927db",
   "metadata": {},
   "source": [
    "## Classification with GRU"
   ]
  },
  {
   "cell_type": "markdown",
   "id": "8f7b0c8b",
   "metadata": {},
   "source": [
    "### Setup"
   ]
  },
  {
   "cell_type": "code",
   "execution_count": 1,
   "id": "e8cb7c1e",
   "metadata": {},
   "outputs": [
    {
     "name": "stderr",
     "output_type": "stream",
     "text": [
      "2022-10-12 17:27:33.203593: I tensorflow/core/platform/cpu_feature_guard.cc:193] This TensorFlow binary is optimized with oneAPI Deep Neural Network Library (oneDNN) to use the following CPU instructions in performance-critical operations:  AVX2 FMA\n",
      "To enable them in other operations, rebuild TensorFlow with the appropriate compiler flags.\n"
     ]
    }
   ],
   "source": [
    "import numpy as np\n",
    "import tensorflow_datasets as tfds\n",
    "import tensorflow as tf\n",
    "\n",
    "tfds.disable_progress_bar()"
   ]
  },
  {
   "cell_type": "code",
   "execution_count": 29,
   "id": "d8b0c081",
   "metadata": {},
   "outputs": [],
   "source": [
    "%matplotlib inline\n",
    "import matplotlib.pyplot as plt\n",
    "\n",
    "def plot_graphs(history, metric):\n",
    "    plt.plot(history.history[metric])\n",
    "    plt.plot(history.history['val_' + metric], '')\n",
    "    plt.xlabel(\"Epochs\")\n",
    "    plt.ylabel(metric)\n",
    "    plt.legend([metric, 'val_'+metric])\n",
    "    plt.show()"
   ]
  },
  {
   "cell_type": "markdown",
   "id": "57d87dc8",
   "metadata": {},
   "source": [
    "### Prepare the data\n",
    "For this example, we will use the yelp polarity review dataset. You can find details about the dataset [here](https://www.tensorflow.org/datasets/catalog/yelp_polarity_reviews)."
   ]
  },
  {
   "cell_type": "code",
   "execution_count": 3,
   "id": "563464e9",
   "metadata": {},
   "outputs": [
    {
     "name": "stdout",
     "output_type": "stream",
     "text": [
      "(TensorSpec(shape=(), dtype=tf.string, name=None), TensorSpec(shape=(), dtype=tf.int64, name=None))\n"
     ]
    },
    {
     "name": "stderr",
     "output_type": "stream",
     "text": [
      "2022-10-12 17:27:36.494185: I tensorflow/core/platform/cpu_feature_guard.cc:193] This TensorFlow binary is optimized with oneAPI Deep Neural Network Library (oneDNN) to use the following CPU instructions in performance-critical operations:  AVX2 FMA\n",
      "To enable them in other operations, rebuild TensorFlow with the appropriate compiler flags.\n"
     ]
    }
   ],
   "source": [
    "dataset, info = tfds.load(\"yelp_polarity_reviews\", with_info=True, as_supervised=True)\n",
    "train_dataset, test_dataset = dataset[\"train\"].take(5000), dataset[\"test\"].take(500)\n",
    "\n",
    "print(train_dataset.element_spec)"
   ]
  },
  {
   "cell_type": "markdown",
   "id": "6b5187de",
   "metadata": {},
   "source": [
    "We can examine the content of the dataset. Then, we can shuffle the data and create batches for training."
   ]
  },
  {
   "cell_type": "code",
   "execution_count": 4,
   "id": "28ee1fbd",
   "metadata": {
    "scrolled": false
   },
   "outputs": [
    {
     "name": "stdout",
     "output_type": "stream",
     "text": [
      "example\t tf.Tensor(b\"The Groovy P. and I ventured to his old stomping grounds for lunch today.  The '5 and Diner' on 16th St and Colter left me with little to ask for.  Before coming here I had a preconceived notion that 5 & Diners were dirty and nasty. Not the case at all.\\\\n\\\\nWe walk in and let the waitress know we want to sit outside (since it's so nice and they had misters).  We get two different servers bringing us stuff (talk about service) and I ask the one waitress for recommendations.  I didn't listen to her, of course, and ordered the Southwestern Burger w/ coleslaw and started with a nice stack of rings.\\\\n\\\\nThe Onion Rings were perfectly cooked.  They looked like they were prepackaged, but they were very crispy and I could actually bite through the onion without pulling the entire thing out (don't you hate that?!!!)\\\\n\\\\nThe Southwestern Burger was order Medium Rare and was cooked accordingly.  Soft, juicy, and pink with a nice crispy browned outer layer that can only be achieved on a well used grill.  The creaminess of the chipotle mayo paired beautifully with the green chiles.  Unfortunately, because I ate too many onion rings, I couldn't finish my burger.  What a shame!\\\\n\\\\nThe Coleslaw was just how I like it.  It's hard to find a really good coleslaw.  I prefer mine to be slightly sweet, not sour.  Too much vinegar in slaw ruins it in my opinion.  This slaw had the perfect marriage of mayo, vinegar, and sugar. Not to mention carrots...\\\\n\\\\nMy experience here was great!  The servers were top notch and kept my water full the entire time and actually chatted with us for a few minutes.\\\\n\\\\nThere is an artist guy named Ross who has been there every day for 5393 days straight. No, not an employee.  He goes there and does his art! He hasn't missed a SINGLE day!!! That's like... 15 years! So if you wanna seem to be 'in the know' ask where Ross is... They'll be able to tell you.\\\\n\\\\nTime for a nap!\", shape=(), dtype=string)\n",
      "label\t tf.Tensor(1, shape=(), dtype=int64)\n",
      "()\n"
     ]
    }
   ],
   "source": [
    "for example, label in train_dataset.take(1):\n",
    "    print(\"example\\t\", example)\n",
    "    print(\"label\\t\", label)\n",
    "    \n",
    "print(example.shape)"
   ]
  },
  {
   "cell_type": "code",
   "execution_count": 5,
   "id": "4a120520",
   "metadata": {},
   "outputs": [],
   "source": [
    "BUFFER_SIZE = 10000\n",
    "BATCH_SIZE = 64\n",
    "\n",
    "train_dataset = train_dataset.shuffle(BUFFER_SIZE).batch(BATCH_SIZE).prefetch(tf.data.AUTOTUNE)\n",
    "test_dataset = test_dataset.batch(BATCH_SIZE).prefetch(tf.data.AUTOTUNE)"
   ]
  },
  {
   "cell_type": "code",
   "execution_count": 6,
   "id": "91f54c62",
   "metadata": {},
   "outputs": [
    {
     "name": "stdout",
     "output_type": "stream",
     "text": [
      "texts:  [b\"I stopped in for a vaporizer.  The guy gave me low, mid and high end options.  No pressure.  Just the facts.  He let me decide and I'm really happy with my purchase.  He was nice and knowledgable.  Happy to support a local business.  I will definitely be back.\"\n",
      " b'Came here after Christmas. The hotel itself looks amazing on the outside with some arts here and there and a nice fountain located in the main entrance cul-de-sac. The layout inside is a different story though. The fitness center and spa/salon was on the \\\\\"\"promenade\\\\\"\" level where you had to walk through shops to get to. Personally, I would think the fitness and spa area should be more close and inclusive to the actual hotel rooms. Another layout flaw is that the main entrance is different from the main valet area. \\\\n\\\\nNow comes the worst part of this hotel: terrible customer service. \\\\nBooked rooms through a third party site and when arrived they told me I had to pay more for a 2 bedroom queen b/c it was previously not listed on the website when I first booked it. (the excuse was that they thought the 2 bed queens were gonna sell out so the didn\\'t list it on the site). Ok then are you assuming that any two person party coming to your hotel is a couple? \\\\n\\\\nMoving on, I requested a higher floor room and the guy at the front desk said \\\\\"\"I\\'ll let u know\\\\\"\" and keeps typing away. Later doesn\\'t even inform me which floor is available. He just makes me sign some papers and I find out he gave us the 10th floor. Great.. thanks for listening guy. \\\\n\\\\nThe rooms are \\\\\"\"technologically advanced\\\\\"\" but the controls are not as smooth especially the temperature functions through the remote. Also, the bathroom was not stocked when arrived. Second day, housekeeping stocked the shampoo et al better. \\\\nGross part of the room: there was a piece of fried chicken underneath the entertainment center!!!! Is this really a 5 star hotel? \\\\n\\\\nLastly, the jean phillipe pasterie (sp?) had horrible customer service as well. Waited for 15mins for food. Asked if they might have forgotten my ticket. They gave me a lame excuse saying they had to wait for the panini. Really? I just saw 5 ppl in front of me get the same thing I just ordered. \\\\n\\\\nOk I\\'m done. haha Probably worst experience at a supposedly 5 star hotel. Will not go again. Encore/Wynn is so much better.'\n",
      " b\"If I could choose no stars i would. Frozen vegetables and flavorless food- that's what authentic is all about.  I applaud the effort but this restaurant should contact Gordon Ramsay. AVOID! Florindinos is more authentic\"]\n",
      "\n",
      "labels:  [1 0 0]\n"
     ]
    }
   ],
   "source": [
    "for example, label in train_dataset.take(1):\n",
    "  print('texts: ', example.numpy()[:3])\n",
    "  print()\n",
    "  print('labels: ', label.numpy()[:3])"
   ]
  },
  {
   "cell_type": "markdown",
   "id": "61264064",
   "metadata": {},
   "source": [
    "Tensorflow Keras provides `TextVectorization`, a layer/class for processing and encoding text into tokens for training. We will use its default version in this example. \n",
    "\n",
    "First, we will use the `adapt` method to set the vocabulary based on `train_dataset`. "
   ]
  },
  {
   "cell_type": "code",
   "execution_count": 7,
   "id": "90473f96",
   "metadata": {},
   "outputs": [],
   "source": [
    "VOCAB_SIZE = 5000\n",
    "text_vectorizer = tf.keras.layers.TextVectorization(max_tokens=VOCAB_SIZE)\n",
    "text_vectorizer.adapt(train_dataset.map(lambda text, label: text))"
   ]
  },
  {
   "cell_type": "markdown",
   "id": "32810585",
   "metadata": {},
   "source": [
    "Once that is done, we will encode texts into indices. By default, the tensors of indices are 0-padded to the longest sequence in the batch, if we do not set a fixed `output_sequence_length`."
   ]
  },
  {
   "cell_type": "code",
   "execution_count": 8,
   "id": "26d56eee",
   "metadata": {},
   "outputs": [
    {
     "name": "stdout",
     "output_type": "stream",
     "text": [
      "tf.Tensor(\n",
      "[b\"I stopped in for a vaporizer.  The guy gave me low, mid and high end options.  No pressure.  Just the facts.  He let me decide and I'm really happy with my purchase.  He was nice and knowledgable.  Happy to support a local business.  I will definitely be back.\"\n",
      " b'Came here after Christmas. The hotel itself looks amazing on the outside with some arts here and there and a nice fountain located in the main entrance cul-de-sac. The layout inside is a different story though. The fitness center and spa/salon was on the \\\\\"\"promenade\\\\\"\" level where you had to walk through shops to get to. Personally, I would think the fitness and spa area should be more close and inclusive to the actual hotel rooms. Another layout flaw is that the main entrance is different from the main valet area. \\\\n\\\\nNow comes the worst part of this hotel: terrible customer service. \\\\nBooked rooms through a third party site and when arrived they told me I had to pay more for a 2 bedroom queen b/c it was previously not listed on the website when I first booked it. (the excuse was that they thought the 2 bed queens were gonna sell out so the didn\\'t list it on the site). Ok then are you assuming that any two person party coming to your hotel is a couple? \\\\n\\\\nMoving on, I requested a higher floor room and the guy at the front desk said \\\\\"\"I\\'ll let u know\\\\\"\" and keeps typing away. Later doesn\\'t even inform me which floor is available. He just makes me sign some papers and I find out he gave us the 10th floor. Great.. thanks for listening guy. \\\\n\\\\nThe rooms are \\\\\"\"technologically advanced\\\\\"\" but the controls are not as smooth especially the temperature functions through the remote. Also, the bathroom was not stocked when arrived. Second day, housekeeping stocked the shampoo et al better. \\\\nGross part of the room: there was a piece of fried chicken underneath the entertainment center!!!! Is this really a 5 star hotel? \\\\n\\\\nLastly, the jean phillipe pasterie (sp?) had horrible customer service as well. Waited for 15mins for food. Asked if they might have forgotten my ticket. They gave me a lame excuse saying they had to wait for the panini. Really? I just saw 5 ppl in front of me get the same thing I just ordered. \\\\n\\\\nOk I\\'m done. haha Probably worst experience at a supposedly 5 star hotel. Will not go again. Encore/Wynn is so much better.'\n",
      " b\"If I could choose no stars i would. Frozen vegetables and flavorless food- that's what authentic is all about.  I applaud the effort but this restaurant should contact Gordon Ramsay. AVOID! Florindinos is more authentic\"], shape=(3,), dtype=string)\n",
      "[[  4 669  11 ...   0   0   0]\n",
      " [ 89  45  81 ...   0   0   0]\n",
      " [ 41   4  93 ...   0   0   0]]\n",
      "(3, 719)\n"
     ]
    }
   ],
   "source": [
    "encoded_example = text_vectorizer(example)[:3].numpy()\n",
    "print(example[:3])\n",
    "print(encoded_example)\n",
    "print(encoded_example.shape)"
   ]
  },
  {
   "cell_type": "markdown",
   "id": "75149da9",
   "metadata": {},
   "source": [
    "### Build the classification model\n",
    "We will employ `tf.keras.Sequential` to combine a sequence of Keras layers to build the model. \n",
    "\n",
    "First, we use `TextVectorization` layer to convert text to a sequence of token indicies, as is shown above. \n",
    "\n",
    "Then, we add a `Embedding` layer that can be trained to produce a vector for each token. This adopts the idea of Word2Vec to reduce the dimension of word representations (i.e. instead of one-hot encoding vector whose length is the size of the vocabulary, we have a smaller but more informational word vectors). \n",
    "\n",
    "After that, we utilize a recurrent neural network (RNN), in this example, a GRU, to process sequence input by iterating through the elements. Since we are approaching a text classification task, we will process the input both forward and backward through the RNN layer to obtain better representations on the text sequences. \n",
    "\n",
    "Lastly, once we obtain the text representations as single vectors using RNN, we use `tf.keras.layers.Dense` to do some further learning on the data, and generate a single logit as the classification output."
   ]
  },
  {
   "cell_type": "code",
   "execution_count": 9,
   "id": "1af78f8b",
   "metadata": {},
   "outputs": [],
   "source": [
    "model = tf.keras.Sequential([\n",
    "    text_vectorizer, \n",
    "    tf.keras.layers.Embedding(\n",
    "        input_dim=len(text_vectorizer.get_vocabulary()),\n",
    "        output_dim=256,\n",
    "        mask_zero=True\n",
    "    ),\n",
    "    tf.keras.layers.Bidirectional(tf.keras.layers.GRU(256)),\n",
    "    tf.keras.layers.Dense(512),\n",
    "    tf.keras.layers.Dense(256),\n",
    "    tf.keras.layers.Dense(64),\n",
    "    tf.keras.layers.Dense(1),\n",
    "])"
   ]
  },
  {
   "cell_type": "markdown",
   "id": "9d233e50",
   "metadata": {},
   "source": [
    "Now we will check if the model produces expected output with a sample text, and we will compile the Keras model to configure the training process. "
   ]
  },
  {
   "cell_type": "code",
   "execution_count": 10,
   "id": "38d608ae",
   "metadata": {
    "scrolled": true
   },
   "outputs": [
    {
     "name": "stdout",
     "output_type": "stream",
     "text": [
      "1/1 [==============================] - 2s 2s/step\n",
      "[[-0.00634777]]\n"
     ]
    }
   ],
   "source": [
    "sample_text = \"Ate dinner here a week ago.  They advertised a free buffet for happy hour but turns out it is nothing more than chips and salsa.   They also have a fruit platter but who is going to eat that with the cantaloupe killing so many people. When we saw the \\\\\"\"Buffet\\\\\"\" we decided to try dinner.  Did not like the food. Just a tiny step above fast food.  The side dish was sone kind of noodles but they were cut up in about 1 inch pieces.  The beans were mashed and I almost gagged on them.  The chile relleno was the best part of the meal but still not up to par with the Barrio Cafe,  I do not plan on going back here again.  Can\\'t believe their quality of food since they are located in a high class neighborhood.\\\\nTheir adsvertising photos below are terrible.  Photgrapher used very bad lighting and it shows.\"\n",
    "predictions = model.predict(np.array([sample_text]))\n",
    "print(predictions)"
   ]
  },
  {
   "cell_type": "code",
   "execution_count": 11,
   "id": "6eb59a0c",
   "metadata": {},
   "outputs": [],
   "source": [
    "model.compile(loss=tf.keras.losses.BinaryCrossentropy(from_logits=True), optimizer=tf.keras.optimizers.Adam(1e-4), metrics=[\"accuracy\"])"
   ]
  },
  {
   "cell_type": "markdown",
   "id": "7f271adc",
   "metadata": {},
   "source": [
    "### Train the model"
   ]
  },
  {
   "cell_type": "code",
   "execution_count": 37,
   "id": "399dc566",
   "metadata": {
    "scrolled": true
   },
   "outputs": [
    {
     "name": "stdout",
     "output_type": "stream",
     "text": [
      "Epoch 1/3\n",
      "79/79 [==============================] - 190s 2s/step - loss: 0.1303 - accuracy: 0.9492 - val_loss: 0.3739 - val_accuracy: 0.8906\n",
      "Epoch 2/3\n",
      "79/79 [==============================] - 187s 2s/step - loss: 0.0658 - accuracy: 0.9784 - val_loss: 0.5851 - val_accuracy: 0.8438\n",
      "Epoch 3/3\n",
      "79/79 [==============================] - 187s 2s/step - loss: 0.0287 - accuracy: 0.9902 - val_loss: 0.9326 - val_accuracy: 0.8594\n"
     ]
    }
   ],
   "source": [
    "history = model.fit(train_dataset, epochs=10, validation_data=test_dataset, validation_steps=1)"
   ]
  },
  {
   "cell_type": "code",
   "execution_count": 14,
   "id": "27f71144",
   "metadata": {
    "scrolled": true
   },
   "outputs": [
    {
     "name": "stdout",
     "output_type": "stream",
     "text": [
      "8/8 [==============================] - 5s 666ms/step - loss: 0.3139 - accuracy: 0.8480\n"
     ]
    }
   ],
   "source": [
    "test_loss, test_acc = model.evaluate(test_dataset)"
   ]
  },
  {
   "cell_type": "code",
   "execution_count": 15,
   "id": "f0983851",
   "metadata": {},
   "outputs": [
    {
     "name": "stdout",
     "output_type": "stream",
     "text": [
      "Test Loss: 0.31391021609306335\n",
      "Test Accuracy: 0.8479999899864197\n"
     ]
    }
   ],
   "source": [
    "print('Test Loss:', test_loss)\n",
    "print('Test Accuracy:', test_acc)"
   ]
  },
  {
   "cell_type": "code",
   "execution_count": 16,
   "id": "ac8d82e0",
   "metadata": {},
   "outputs": [
    {
     "name": "stdout",
     "output_type": "stream",
     "text": [
      "1/1 [==============================] - 2s 2s/step\n",
      "[[-3.9102585]]\n"
     ]
    }
   ],
   "source": [
    "predictions = model.predict(np.array([sample_text]))\n",
    "print(predictions)"
   ]
  },
  {
   "cell_type": "code",
   "execution_count": 38,
   "id": "417a040c",
   "metadata": {},
   "outputs": [
    {
     "data": {
      "image/png": "[encoded data removed]",
      "text/plain": [
       "<Figure size 640x480 with 1 Axes>"
      ]
     },
     "metadata": {},
     "output_type": "display_data"
    },
    {
     "data": {
      "image/png": "[encoded data removed]",
      "text/plain": [
       "<Figure size 640x480 with 1 Axes>"
      ]
     },
     "metadata": {},
     "output_type": "display_data"
    }
   ],
   "source": [
    "plot_graphs(history, 'accuracy')\n",
    "plot_graphs(history, 'loss')"
   ]
  },
  {
   "cell_type": "markdown",
   "id": "6d8ccb3e",
   "metadata": {},
   "source": [
    "## Hands on\n",
    "Find a text dataset appropriate for text classification you are interested in available in the [tensorflow dataset collection](https://www.tensorflow.org/datasets/catalog/overview). Try training different versions of RNN models (e.g. LSTM and GRU) and compare the training results such as the loss curves as well as relevant metrics (e.g. accuracy, F1, etc.).\n",
    "\n",
    "I would suggest that you do this exercise in the iPython console, which is similar to Jupyter Notebook, but works in the terminal. This way you can also try train your models on one of the deepdish servers. \n",
    "\n",
    "### TODOs\n",
    "1. Find and download a dataset you are interested in, and examine the dataset content.\n",
    "2. Build a `TextVectorizer` for your dataset.\n",
    "3. Setup classification models based on uni-directional LSTM, uni-directional GRU, bi-directional LSTM and bi-directonal GRU. \n",
    "4. Run training and evaluation on these four models and collect results. \n",
    "5. Compare the performance in terms of relevant metrics and note the model with best performance. "
   ]
  }
 ],
 "metadata": {
  "kernelspec": {
   "display_name": "Python 3 (ipykernel)",
   "language": "python",
   "name": "python3"
  },
  "language_info": {
   "codemirror_mode": {
    "name": "ipython",
    "version": 3
   },
   "file_extension": ".py",
   "mimetype": "text/x-python",
   "name": "python",
   "nbconvert_exporter": "python",
   "pygments_lexer": "ipython3",
   "version": "3.7.13"
  }
 },
 "nbformat": 4,
 "nbformat_minor": 5
}
