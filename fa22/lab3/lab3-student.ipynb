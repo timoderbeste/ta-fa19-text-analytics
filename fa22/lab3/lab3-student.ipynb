{
 "cells": [
  {
   "cell_type": "markdown",
   "id": "d99c2524",
   "metadata": {},
   "source": [
    "# Lab 3 - Pretrained language models and text classification"
   ]
  },
  {
   "cell_type": "markdown",
   "id": "b7153ac1",
   "metadata": {},
   "source": [
    "## Classification with language models"
   ]
  },
  {
   "cell_type": "markdown",
   "id": "78212388",
   "metadata": {},
   "source": [
    "### Setup"
   ]
  },
  {
   "cell_type": "code",
   "execution_count": 1,
   "id": "ed08efdc",
   "metadata": {},
   "outputs": [
    {
     "name": "stderr",
     "output_type": "stream",
     "text": [
      "2022-10-20 18:36:08.461434: I tensorflow/core/platform/cpu_feature_guard.cc:193] This TensorFlow binary is optimized with oneAPI Deep Neural Network Library (oneDNN) to use the following CPU instructions in performance-critical operations:  AVX2 FMA\n",
      "To enable them in other operations, rebuild TensorFlow with the appropriate compiler flags.\n"
     ]
    }
   ],
   "source": [
    "import os\n",
    "\n",
    "import numpy as np\n",
    "import tensorflow_datasets as tfds\n",
    "import tensorflow as tf\n",
    "from sklearn.metrics import roc_auc_score\n",
    "from tensorflow.keras import Model, Input \n",
    "from tensorflow.keras.layers import Dense, Dropout\n",
    "from tensorflow.keras.optimizers import RMSprop, Adam\n",
    "from tensorflow.keras.callbacks import ModelCheckpoint\n",
    "from transformers import AutoTokenizer, TFAutoModel, logging\n",
    "\n",
    "tfds.disable_progress_bar()"
   ]
  },
  {
   "cell_type": "code",
   "execution_count": 2,
   "id": "affb58c0",
   "metadata": {},
   "outputs": [],
   "source": [
    "%matplotlib inline"
   ]
  },
  {
   "cell_type": "markdown",
   "id": "2a015169",
   "metadata": {},
   "source": [
    "### Download the data\n",
    "Find a proper dataset [here](https://www.tensorflow.org/datasets/catalog/).\n",
    "Download the dataset."
   ]
  },
  {
   "cell_type": "code",
   "execution_count": 3,
   "id": "da635e4a",
   "metadata": {},
   "outputs": [],
   "source": [
    "# TODO: Download the dataset with tensorflow dataset and obtain train and test datasets."
   ]
  },
  {
   "cell_type": "markdown",
   "id": "ec1ea8fa",
   "metadata": {},
   "source": [
    "### Prepare the model"
   ]
  },
  {
   "cell_type": "code",
   "execution_count": 4,
   "id": "ecf37c15",
   "metadata": {},
   "outputs": [],
   "source": [
    "# TODO: Choose your transformer model and specify your model_path\n",
    "\n",
    "MODEL = None\n",
    "\n",
    "model_path = None\n",
    "folder = os.fspath(model_path)"
   ]
  },
  {
   "cell_type": "code",
   "execution_count": 5,
   "id": "15af8d82",
   "metadata": {},
   "outputs": [],
   "source": [
    "# TODO: Load and save pretrained transformer model and tokenizer."
   ]
  },
  {
   "cell_type": "markdown",
   "id": "b25774a2",
   "metadata": {},
   "source": [
    "### Process the data"
   ]
  },
  {
   "cell_type": "code",
   "execution_count": 6,
   "id": "f5a22036",
   "metadata": {},
   "outputs": [],
   "source": [
    "def encode_data(data, max_len):\n",
    "    raise NotImplementedError"
   ]
  },
  {
   "cell_type": "code",
   "execution_count": 7,
   "id": "e319e478",
   "metadata": {},
   "outputs": [],
   "source": [
    "# TODO: Encode train and test texts with the function `encode_data`"
   ]
  },
  {
   "cell_type": "code",
   "execution_count": 8,
   "id": "40a31cac",
   "metadata": {},
   "outputs": [],
   "source": [
    "# TODO: Try encode a few pieces of texts and examine the output shape"
   ]
  },
  {
   "cell_type": "markdown",
   "id": "1877f86c",
   "metadata": {},
   "source": [
    "### Build the model"
   ]
  },
  {
   "cell_type": "code",
   "execution_count": 9,
   "id": "f82d0939",
   "metadata": {},
   "outputs": [],
   "source": [
    "# TODO: Define your model here. Depend on your dataset, \n",
    "#   you may need to use a different activation function for the last layer. \n",
    "#   You may also need to use a different loss function other than binary_crossentropy.\n",
    "\n",
    "def get_model(transformer):\n",
    "    raise NotImplementedError"
   ]
  },
  {
   "cell_type": "markdown",
   "id": "99741eb5",
   "metadata": {},
   "source": [
    "### Train the model"
   ]
  },
  {
   "cell_type": "code",
   "execution_count": null,
   "id": "bee0fe50",
   "metadata": {
    "scrolled": true
   },
   "outputs": [],
   "source": [
    "best_model_path = 'best_model_head.h5'\n",
    "BATCH_SIZE = 128\n",
    "\n",
    "# save the best model to a file\n",
    "chp = ModelCheckpoint(best_model_path,save_best_only=True,save_weights_only=True)\n",
    "model = get_model(transformer)\n",
    "print('Model: classifier head traning only: \\n',model.summary())"
   ]
  },
  {
   "cell_type": "code",
   "execution_count": null,
   "id": "464b705d",
   "metadata": {
    "scrolled": true
   },
   "outputs": [],
   "source": [
    "best_model_path = 'best_model_whole.h5'\n",
    "chp = ModelCheckpoint(best_model_path, save_best_only=True, save_weights_only=True)\n",
    "    \n",
    "\n",
    "hist = model.fit(X_train, np.array(y_train),\n",
    "                 validation_split=0.2,\n",
    "                 epochs=3, shuffle=True, callbacks=[chp],\n",
    "                 verbose=1)"
   ]
  },
  {
   "cell_type": "code",
   "execution_count": null,
   "id": "eb6de458",
   "metadata": {
    "scrolled": true
   },
   "outputs": [],
   "source": [
    "model.load_weights(best_model_path)\n",
    "test_pred = model.predict(X_test, batch_size=BATCH_SIZE, verbose=0)"
   ]
  },
  {
   "cell_type": "code",
   "execution_count": null,
   "id": "df328577",
   "metadata": {
    "scrolled": true
   },
   "outputs": [],
   "source": [
    "print('AUC after head finetuning',roc_auc_score(y_test, test_pred))"
   ]
  }
 ],
 "metadata": {
  "kernelspec": {
   "display_name": "Python 3 (ipykernel)",
   "language": "python",
   "name": "python3"
  },
  "language_info": {
   "codemirror_mode": {
    "name": "ipython",
    "version": 3
   },
   "file_extension": ".py",
   "mimetype": "text/x-python",
   "name": "python",
   "nbconvert_exporter": "python",
   "pygments_lexer": "ipython3",
   "version": "3.7.13"
  }
 },
 "nbformat": 4,
 "nbformat_minor": 5
}
