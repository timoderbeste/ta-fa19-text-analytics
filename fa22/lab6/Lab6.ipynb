{
 "cells": [
  {
   "cell_type": "markdown",
   "id": "d1957088",
   "metadata": {},
   "source": [
    "# Lab 6 "
   ]
  },
  {
   "cell_type": "code",
   "execution_count": 1,
   "id": "2ae1faa2",
   "metadata": {},
   "outputs": [
    {
     "name": "stderr",
     "output_type": "stream",
     "text": [
      "2022-11-18 00:04:04.265271: I tensorflow/core/platform/cpu_feature_guard.cc:193] This TensorFlow binary is optimized with oneAPI Deep Neural Network Library (oneDNN) to use the following CPU instructions in performance-critical operations:  AVX2 FMA\n",
      "To enable them in other operations, rebuild TensorFlow with the appropriate compiler flags.\n"
     ]
    }
   ],
   "source": [
    "import spacy\n",
    "nlp = spacy.load(\"en_core_web_md\")"
   ]
  },
  {
   "cell_type": "code",
   "execution_count": 2,
   "id": "e2d4abab",
   "metadata": {},
   "outputs": [],
   "source": [
    "import requests\n",
    "from datetime import datetime"
   ]
  },
  {
   "cell_type": "code",
   "execution_count": 3,
   "id": "d26bf47e",
   "metadata": {},
   "outputs": [
    {
     "name": "stdout",
     "output_type": "stream",
     "text": [
      "{'coord': {'lon': -87.6901, 'lat': 42.0411}, 'weather': [{'id': 803, 'main': 'Clouds', 'description': 'broken clouds', 'icon': '04n'}], 'base': 'stations', 'main': {'temp': 271.55, 'feels_like': 265.85, 'temp_min': 270.51, 'temp_max': 272.25, 'pressure': 1019, 'humidity': 69}, 'visibility': 10000, 'wind': {'speed': 5.66, 'deg': 260}, 'clouds': {'all': 75}, 'dt': 1668751449, 'sys': {'type': 2, 'id': 2038650, 'country': 'US', 'sunrise': 1668775477, 'sunset': 1668810455}, 'timezone': -21600, 'id': 4891382, 'name': 'Evanston', 'cod': 200}\n",
      "dict_keys(['coord', 'weather', 'base', 'main', 'visibility', 'wind', 'clouds', 'dt', 'sys', 'timezone', 'id', 'name', 'cod'])\n"
     ]
    }
   ],
   "source": [
    "api_key = \"764915bdfe257c96cfbc0cf145272cbd\"\n",
    "\n",
    "city = \"Evanston\"\n",
    "api_url = f\"https://api.openweathermap.org/data/2.5/weather?q={city}&appid={api_key}\"\n",
    "r = requests.get(api_url).json()\n",
    "print(r)\n",
    "print(r.keys())"
   ]
  },
  {
   "cell_type": "code",
   "execution_count": 4,
   "id": "f28b7ded",
   "metadata": {},
   "outputs": [],
   "source": [
    "def K2F(temp_K):\n",
    "    temp_F = round((temp_K - 273.15) * 9/5 + 32,0)\n",
    "    return temp_F\n",
    "\n",
    "def K2C(temp_K):\n",
    "    temp_C = temp_K - 273.15\n",
    "    return temp_C"
   ]
  },
  {
   "cell_type": "code",
   "execution_count": 5,
   "id": "b7e61a6f",
   "metadata": {},
   "outputs": [
    {
     "name": "stdout",
     "output_type": "stream",
     "text": [
      "Weather description:  broken clouds\n",
      "Temperature (F):  29.0\n",
      "Temperature (C):  -1.599999999999966\n"
     ]
    }
   ],
   "source": [
    "print('Weather description: ',r[\"weather\"][0][\"description\"])\n",
    "print('Temperature (F): ',K2F(r[\"main\"][\"temp\"]))\n",
    "print('Temperature (C): ',K2C(r[\"main\"][\"temp\"]))"
   ]
  },
  {
   "cell_type": "code",
   "execution_count": 6,
   "id": "d25d32c6",
   "metadata": {},
   "outputs": [],
   "source": [
    "def get_data(city_name):\n",
    "    api_url = f\"http://api.openweathermap.org/data/2.5/weather?q={city_name}&appid={api_key}\"\n",
    "\n",
    "    response = requests.get(api_url)\n",
    "    response_dict = response.json()\n",
    "    return response_dict"
   ]
  },
  {
   "cell_type": "code",
   "execution_count": 7,
   "id": "e1304c78",
   "metadata": {},
   "outputs": [],
   "source": [
    "def get_weather(city_name):\n",
    "    response_dict = get_data(city_name)\n",
    "\n",
    "    weather, temp = response_dict[\"weather\"][0][\"description\"], str(K2F(response_dict[\"main\"][\"temp\"])) \n",
    "    \n",
    "    return weather, temp"
   ]
  },
  {
   "cell_type": "code",
   "execution_count": 8,
   "id": "5855987d",
   "metadata": {},
   "outputs": [],
   "source": [
    "def get_sunrise(city_name):\n",
    "    response_dict = get_data(city_name)\n",
    "    sunrise_ts = response_dict[\"sys\"][\"sunrise\"]\n",
    "    dt_o = datetime.fromtimestamp(1668689003)\n",
    "    return \"%d:%d\" % (dt_o.hour, dt_o.minute)"
   ]
  },
  {
   "cell_type": "code",
   "execution_count": 9,
   "id": "9b492da6",
   "metadata": {},
   "outputs": [
    {
     "name": "stdout",
     "output_type": "stream",
     "text": [
      "Weather:  overcast clouds \n",
      "Temperature:  47.0\n"
     ]
    }
   ],
   "source": [
    "weather, temp = get_weather(\"London\")\n",
    "print(\"Weather: \",weather, \"\\nTemperature: \",temp)"
   ]
  },
  {
   "cell_type": "code",
   "execution_count": 10,
   "id": "3a0f8ee9",
   "metadata": {},
   "outputs": [
    {
     "name": "stdout",
     "output_type": "stream",
     "text": [
      "6:43\n"
     ]
    }
   ],
   "source": [
    "sunrise = get_sunrise(\"Evanston\")\n",
    "print(sunrise)"
   ]
  },
  {
   "cell_type": "code",
   "execution_count": 11,
   "id": "ab06df07",
   "metadata": {},
   "outputs": [],
   "source": [
    "weather_request = \"What is the weather?\"\n",
    "weather_req_doc = nlp(weather_request)"
   ]
  },
  {
   "cell_type": "code",
   "execution_count": 12,
   "id": "00ac9f17",
   "metadata": {},
   "outputs": [
    {
     "name": "stdout",
     "output_type": "stream",
     "text": [
      "0.7867970023620359\n",
      "0.28759060509276346\n"
     ]
    }
   ],
   "source": [
    "statement_1 = \"How cold is it in London?\"\n",
    "statement_2 = \"Select flights to London\"\n",
    "statement1_doc = nlp(statement_1)\n",
    "statement2_doc = nlp(statement_2)\n",
    "print(weather_req_doc.similarity(statement1_doc))\n",
    "print(weather_req_doc.similarity(statement2_doc))"
   ]
  },
  {
   "cell_type": "code",
   "execution_count": 13,
   "id": "edfa6e7a",
   "metadata": {},
   "outputs": [
    {
     "name": "stdout",
     "output_type": "stream",
     "text": [
      "London -> GPE\n"
     ]
    }
   ],
   "source": [
    "for ent in statement1_doc.ents:\n",
    "    print(\"{} -> {}\".format(ent.text,ent.label_))"
   ]
  },
  {
   "cell_type": "code",
   "execution_count": 14,
   "id": "33f5a0a7",
   "metadata": {},
   "outputs": [],
   "source": [
    "def extract_city(statement):\n",
    "    city = None\n",
    "    for ent in statement.ents:\n",
    "        if ent.label_ == \"GPE\": # GeoPolitical Entity\n",
    "            city = ent.text\n",
    "            break\n",
    "    return city"
   ]
  },
  {
   "cell_type": "code",
   "execution_count": 15,
   "id": "623cdb82",
   "metadata": {},
   "outputs": [],
   "source": [
    "def responder_weather(statement):\n",
    "    statement = nlp(statement)\n",
    "    city = extract_city(statement)\n",
    "    if city == None:\n",
    "        return \"You need to tell me a city to check.\"\n",
    "\n",
    "    city_weather, city_temp = get_weather(city)\n",
    "    if city_weather is not None:\n",
    "        return \"In \" + city + \", the current weather is: \" + city_weather + \\\n",
    "        \", and the air temperature is: \" + city_temp + \" Fahrenheit\"\n",
    "    else:\n",
    "        return \"Something went wrong.\""
   ]
  },
  {
   "cell_type": "code",
   "execution_count": 16,
   "id": "107f7812",
   "metadata": {},
   "outputs": [],
   "source": [
    "def responder_sunrise(statement):\n",
    "    statement = nlp(statement)\n",
    "    city = extract_city(statement)\n",
    "    if city == None:\n",
    "        return \"You need to tell me a city to check.\"\n",
    "    sunrise = get_sunrise(city)\n",
    "    return \"Sun rises at %s\" % sunrise"
   ]
  },
  {
   "cell_type": "code",
   "execution_count": 17,
   "id": "b22daf28",
   "metadata": {},
   "outputs": [],
   "source": [
    "class ChatBot:\n",
    "    def __init__(self, template_responder_pairs):\n",
    "        self.template_responder_pairs = template_responder_pairs\n",
    "        self.template_nlp_responder_pairs = \\\n",
    "            [(nlp(template_responder_pair[0]), template_responder_pair[1]) \n",
    "             for template_responder_pair in template_responder_pairs]\n",
    "    \n",
    "    def respond(self, inp):\n",
    "        inp_nlp = nlp(inp)\n",
    "        similarity_responder_pairs = \\\n",
    "            [(template_nlp_responder_pair[0].similarity(inp_nlp), template_nlp_responder_pair[1]) \n",
    "             for template_nlp_responder_pair in self.template_nlp_responder_pairs]\n",
    "        similarity_responder_pairs = sorted(similarity_responder_pairs, key=lambda p: p[0], reverse=True)\n",
    "        if similarity_responder_pairs[0][0] < 0.5:\n",
    "            return \"Sorry I don't understand that. Try one of the following:\\n\" + \\\n",
    "                \"\\n\".join([template_responder_pair[0] \n",
    "                           for template_responder_pair in self.template_responder_pairs])\n",
    "        \n",
    "        return similarity_responder_pairs[0][1](inp)"
   ]
  },
  {
   "cell_type": "code",
   "execution_count": 18,
   "id": "64ba6773",
   "metadata": {},
   "outputs": [],
   "source": [
    "chatbot = ChatBot([(\"What is the weather?\", responder_weather), (\"When does the sun rise?\", responder_sunrise)])"
   ]
  },
  {
   "cell_type": "code",
   "execution_count": 19,
   "id": "6191babd",
   "metadata": {
    "scrolled": true
   },
   "outputs": [
    {
     "name": "stdout",
     "output_type": "stream",
     "text": [
      "In Amsterdam, the current weather is: clear sky, and the air temperature is: 46.0 Fahrenheit\n"
     ]
    }
   ],
   "source": [
    "response_1 = chatbot.respond(\"Is it freezing in Amsterdam?\")\n",
    "print(response_1)"
   ]
  },
  {
   "cell_type": "code",
   "execution_count": 20,
   "id": "b6cc9a12",
   "metadata": {},
   "outputs": [
    {
     "name": "stdout",
     "output_type": "stream",
     "text": [
      "You need to tell me a city to check.\n"
     ]
    }
   ],
   "source": [
    "response_2 = chatbot.respond(\"How cold is it?\")\n",
    "print(response_2)"
   ]
  },
  {
   "cell_type": "code",
   "execution_count": 21,
   "id": "eb8427d5",
   "metadata": {},
   "outputs": [
    {
     "name": "stdout",
     "output_type": "stream",
     "text": [
      "In Evanston, the current weather is: broken clouds, and the air temperature is: 29.0 Fahrenheit\n"
     ]
    }
   ],
   "source": [
    "response_3 = chatbot.respond(\"When is the sunrise in Evanston?\")\n",
    "print(response_3)"
   ]
  },
  {
   "cell_type": "code",
   "execution_count": 22,
   "id": "c9b3d0c7",
   "metadata": {},
   "outputs": [
    {
     "name": "stdout",
     "output_type": "stream",
     "text": [
      "Sun rises at 6:43\n"
     ]
    }
   ],
   "source": [
    "response_4 = chatbot.respond(\"When does the sun rise in San Diego?\")\n",
    "print(response_4)"
   ]
  }
 ],
 "metadata": {
  "kernelspec": {
   "display_name": "Python 3 (ipykernel)",
   "language": "python",
   "name": "python3"
  },
  "language_info": {
   "codemirror_mode": {
    "name": "ipython",
    "version": 3
   },
   "file_extension": ".py",
   "mimetype": "text/x-python",
   "name": "python",
   "nbconvert_exporter": "python",
   "pygments_lexer": "ipython3",
   "version": "3.7.13"
  }
 },
 "nbformat": 4,
 "nbformat_minor": 5
}
