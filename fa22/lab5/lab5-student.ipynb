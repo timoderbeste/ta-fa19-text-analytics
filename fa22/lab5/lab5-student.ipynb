{
 "cells": [
  {
   "cell_type": "markdown",
   "id": "9f6813ac",
   "metadata": {},
   "source": [
    "# Relation Extraction"
   ]
  },
  {
   "cell_type": "markdown",
   "id": "48771e1b",
   "metadata": {},
   "source": [
    "## Make the `get_relation` function more robust\n",
    "\n",
    "For this exercise, try to extend the `get_relation` so that it can support more sentence structures. Specifically, try to extract the underlined relations from the corresponding sentences below. If no relation is found, then the function should return `None`. \n",
    "\n",
    "* John <u>completed</u> the difficult course prerequisites.\n",
    "* People used to believe that the sun <u>rotates around</u> the sun. \n",
    "* It is well-known that James Watt <u>improved</u> the steam engine.\n",
    "* Computer science <u>is</u> a combination of engineering and mathematics.\n",
    "* In order to decode the Enigma machine, Alan Turing succeeded in <u>inventing</u> a decoding machine.\n",
    "* In order to decode the Enigma machine, Alan Turing tried to <u>invent</u> a decoding machine."
   ]
  },
  {
   "cell_type": "code",
   "execution_count": 1,
   "id": "046b5a5b",
   "metadata": {},
   "outputs": [],
   "source": [
    "sent1 = \"John completed the difficult course prerequisites.\"\n",
    "sent2 = \"People used to believe that the sun rotates around the earth.\"\n",
    "sent3 = \"It is well-known that James Watt improved the steam engine.\"\n",
    "sent4 = \"Computer science is a combination of engineering and mathematics.\"\n",
    "sent5 = \"In order to decode the Enigma machine, Alan Turing succeeded in inventing a decoding machine.\"\n",
    "sent6 = \"In order to decode the Enigma machine, Alan Turing tried to invent a decoding machine.\""
   ]
  },
  {
   "cell_type": "code",
   "execution_count": 2,
   "id": "aab41045",
   "metadata": {},
   "outputs": [],
   "source": [
    "import spacy\n",
    "from spacy.matcher import Matcher\n",
    "\n",
    "nlp = spacy.load(\"en_core_web_sm\")"
   ]
  },
  {
   "cell_type": "code",
   "execution_count": 3,
   "id": "7ad263f9",
   "metadata": {},
   "outputs": [],
   "source": [
    "def get_relation(sent):\n",
    "    # TODO: Modify this function so that it can correctly \n",
    "    #       extracts the relations as underlined in the list above.\n",
    "    doc = nlp(sent)\n",
    "\n",
    "    # Matcher class object \n",
    "    matcher = Matcher(nlp.vocab)\n",
    "\n",
    "    #define the pattern \n",
    "    pattern = [{'DEP':'ROOT'}, \n",
    "            {'DEP':'prep','OP':\"?\"},\n",
    "            {'DEP':'agent','OP':\"?\"},  \n",
    "            {'POS':'ADJ','OP':\"?\"}] \n",
    "\n",
    "    matcher.add(\"matching_1\",[pattern]) \n",
    "\n",
    "    matches = matcher(doc)\n",
    "    k = len(matches) - 1\n",
    "\n",
    "    span = doc[matches[k][1]:matches[k][2]] \n",
    "\n",
    "    return(span.text)"
   ]
  },
  {
   "cell_type": "code",
   "execution_count": 4,
   "id": "62ba9dd4",
   "metadata": {},
   "outputs": [
    {
     "name": "stdout",
     "output_type": "stream",
     "text": [
      "completed\n",
      "====================\n",
      "used\n",
      "====================\n",
      "is\n",
      "====================\n",
      "is\n",
      "====================\n",
      "succeeded in\n",
      "====================\n",
      "tried\n"
     ]
    }
   ],
   "source": [
    "print(get_relation(sent1))\n",
    "print(\"=\" * 20)\n",
    "print(get_relation(sent2))\n",
    "print(\"=\" * 20)\n",
    "print(get_relation(sent3))\n",
    "print(\"=\" * 20)\n",
    "print(get_relation(sent4))\n",
    "print(\"=\" * 20)\n",
    "print(get_relation(sent5))\n",
    "print(\"=\" * 20)\n",
    "print(get_relation(sent6))"
   ]
  },
  {
   "cell_type": "markdown",
   "id": "d63f5c58",
   "metadata": {},
   "source": [
    "## Try breaking your `get_relation` implementation\n",
    "Now that your `get_relation` functions can handle more complex sentences, is there any other sentence structures that your implementation may fail to handle. Please try enumerating some sentence examples that will break your implementation!"
   ]
  },
  {
   "cell_type": "code",
   "execution_count": 5,
   "id": "6afb17ea",
   "metadata": {},
   "outputs": [],
   "source": [
    "# TODO: Come up with some sentences that will \n",
    "#       break your get_relation function."
   ]
  }
 ],
 "metadata": {
  "kernelspec": {
   "display_name": "Python 3 (ipykernel)",
   "language": "python",
   "name": "python3"
  },
  "language_info": {
   "codemirror_mode": {
    "name": "ipython",
    "version": 3
   },
   "file_extension": ".py",
   "mimetype": "text/x-python",
   "name": "python",
   "nbconvert_exporter": "python",
   "pygments_lexer": "ipython3",
   "version": "3.9.12"
  }
 },
 "nbformat": 4,
 "nbformat_minor": 5
}
