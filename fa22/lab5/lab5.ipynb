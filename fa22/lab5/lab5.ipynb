{
 "cells": [
  {
   "cell_type": "markdown",
   "id": "02ebbe8b",
   "metadata": {},
   "source": [
    "# Relation Extraction"
   ]
  },
  {
   "cell_type": "markdown",
   "id": "1d9754ae",
   "metadata": {},
   "source": [
    "## Make the `get_relation` function more robust\n",
    "\n",
    "For this exercise, try to extend the `get_relation` so that it can support more sentence structures. Specifically, try to extract the underlined relations from the corresponding sentences below. If no relation is found, then the function should return `None`. \n",
    "\n",
    "* John <u>completed</u> the difficult course prerequisites.\n",
    "* People used to believe that the sun <u>rotates around</u> the sun. \n",
    "* It is well-known that James Watt <u>improved</u> the steam engine.\n",
    "* Computer science <u>is</u> a combination of engineering and mathematics.\n",
    "* In order to decode the Enigma machine, Alan Turing succeeded in <u>inventing</u> a decoding machine.\n",
    "* In order to decode the Enigma machine, Alan Turing tried to <u>invent</u> a decoding machine."
   ]
  },
  {
   "cell_type": "code",
   "execution_count": 1,
   "id": "d58501b2",
   "metadata": {},
   "outputs": [],
   "source": [
    "sent1 = \"John completed the difficult course prerequisites.\"\n",
    "sent2 = \"People used to believe that the sun rotates around the earth.\"\n",
    "sent3 = \"It is well-known that James Watt improved the steam engine.\"\n",
    "sent4 = \"Computer science is a combination of engineering and mathematics.\"\n",
    "sent5 = \"In order to decode the Enigma machine, Alan Turing succeeded in inventing a decoding machine.\"\n",
    "sent6 = \"In order to decode the Enigma machine, Alan Turing tried to invent a decoding machine.\""
   ]
  },
  {
   "cell_type": "code",
   "execution_count": 2,
   "id": "37f9a7b4",
   "metadata": {},
   "outputs": [],
   "source": [
    "import spacy\n",
    "from spacy.matcher import Matcher\n",
    "\n",
    "nlp = spacy.load(\"en_core_web_sm\")"
   ]
  },
  {
   "cell_type": "code",
   "execution_count": 3,
   "id": "e24a3201",
   "metadata": {},
   "outputs": [],
   "source": [
    "def get_relation(sent):\n",
    "    doc = nlp(sent)\n",
    "    deps = []\n",
    "    for token in doc:\n",
    "        deps.append(token.dep_)\n",
    "    deps = \" \".join(deps)\n",
    "    \n",
    "    matcher = Matcher(nlp.vocab)\n",
    "    span = None\n",
    "    if \"ROOT prep pcomp\" in deps:\n",
    "        pattern = [\n",
    "            {\"DEP\": \"ROOT\"},\n",
    "            {\"DEP\": \"prep\"},\n",
    "            {\"DEP\": \"pcomp\"},\n",
    "        ]\n",
    "        matcher.add(\"matching\", [pattern])\n",
    "        matches = matcher(doc)\n",
    "        if len(matches) == 0:\n",
    "            return None\n",
    "        span = doc[matches[-1][2]-1:matches[-1][2]]\n",
    "    elif \"ROOT aux xcomp\" in deps:\n",
    "        if \"mark\" in deps and \"ccomp\" in deps:\n",
    "            pattern = [\n",
    "                {\"DEP\": \"ccomp\"},\n",
    "                {'DEP': \"prep\", 'OP': \"?\"},\n",
    "            ]\n",
    "            matcher.add(\"matching\", [pattern])\n",
    "            matches = matcher(doc)\n",
    "            if len(matches) == 0:\n",
    "                return None\n",
    "            span = doc[matches[-1][1]:matches[-1][2]]\n",
    "        else:\n",
    "            pattern = [\n",
    "                {\"DEP\": \"ROOT\"},\n",
    "                {\"DEP\": \"aux\"},\n",
    "                {\"DEP\": \"xcomp\"},\n",
    "            ]\n",
    "            matcher.add(\"matching\", [pattern])\n",
    "            matches = matcher(doc)\n",
    "            if len(matches) == 0:\n",
    "                return None\n",
    "            span = doc[matches[-1][2]-1:matches[-1][2]]\n",
    "            \n",
    "    elif \"mark\" not in deps or \"ccomp\" not in deps:\n",
    "        pattern = [\n",
    "            {\"DEP\": \"ROOT\"},\n",
    "            {\"DEP\": \"prep\", \"OP\": \"?\"},\n",
    "            {\"DEP\": \"agent\", \"OP\": \"?\"},\n",
    "            {\"DEP\": \"ADJ\", \"OP\": \"?\"},\n",
    "        ]\n",
    "        matcher.add(\"matching\", [pattern])\n",
    "        matches = matcher(doc)\n",
    "        if len(matches) == 0:\n",
    "            return None\n",
    "        span = doc[matches[-1][1]:matches[-1][2]]\n",
    "    else:\n",
    "        pattern = [\n",
    "            {\"DEP\": \"ccomp\"},\n",
    "            {'DEP': \"prep\", 'OP': \"?\"},\n",
    "        ]\n",
    "        matcher.add(\"matching\", [pattern])\n",
    "        matches = matcher(doc)\n",
    "        if len(matches) == 0:\n",
    "            return None\n",
    "        span = doc[matches[-1][1]:matches[-1][2]]\n",
    "    \n",
    "    if not span:\n",
    "        return None\n",
    "\n",
    "    return (span.text)"
   ]
  },
  {
   "cell_type": "code",
   "execution_count": 4,
   "id": "b70ad864",
   "metadata": {},
   "outputs": [
    {
     "name": "stdout",
     "output_type": "stream",
     "text": [
      "completed\n",
      "====================\n",
      "rotates around\n",
      "====================\n",
      "improved\n",
      "====================\n",
      "is\n",
      "====================\n",
      "inventing\n",
      "====================\n",
      "invent\n"
     ]
    }
   ],
   "source": [
    "print(get_relation(sent1))\n",
    "print(\"=\" * 20)\n",
    "print(get_relation(sent2))\n",
    "print(\"=\" * 20)\n",
    "print(get_relation(sent3))\n",
    "print(\"=\" * 20)\n",
    "print(get_relation(sent4))\n",
    "print(\"=\" * 20)\n",
    "print(get_relation(sent5))\n",
    "print(\"=\" * 20)\n",
    "print(get_relation(sent6))"
   ]
  },
  {
   "cell_type": "markdown",
   "id": "9ccb7eb7",
   "metadata": {},
   "source": [
    "## Try breaking your `get_relation` implementation\n",
    "Now that your `get_relation` functions can handle more complex sentences, is there any other sentence structures that your implementation may fail to handle. Please try enumerating some sentence examples that will break your implementation!"
   ]
  },
  {
   "cell_type": "code",
   "execution_count": 5,
   "id": "82b87dd7",
   "metadata": {},
   "outputs": [],
   "source": [
    "# TODO: Come up with some sentences that will \n",
    "#       break your get_relation function."
   ]
  }
 ],
 "metadata": {
  "kernelspec": {
   "display_name": "Python 3 (ipykernel)",
   "language": "python",
   "name": "python3"
  },
  "language_info": {
   "codemirror_mode": {
    "name": "ipython",
    "version": 3
   },
   "file_extension": ".py",
   "mimetype": "text/x-python",
   "name": "python",
   "nbconvert_exporter": "python",
   "pygments_lexer": "ipython3",
   "version": "3.9.12"
  }
 },
 "nbformat": 4,
 "nbformat_minor": 5
}
