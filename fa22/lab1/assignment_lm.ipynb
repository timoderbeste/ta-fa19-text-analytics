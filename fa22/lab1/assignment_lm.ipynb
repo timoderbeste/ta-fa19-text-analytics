{
 "cells": [
  {
   "cell_type": "code",
   "execution_count": 2,
   "id": "0dab0389",
   "metadata": {},
   "outputs": [],
   "source": [
    "import numpy as np\n",
    "import pandas as pd"
   ]
  },
  {
   "cell_type": "code",
   "execution_count": 3,
   "id": "d9eda579",
   "metadata": {},
   "outputs": [],
   "source": [
    "tkns = [\"i\",\"want\",\"to\",\"eat\",\"chinese\",\"food\",\"lunch\",\"spend\"]\n",
    "\n",
    "tble = [[\"\"]+tkns,\n",
    "       [\"i\",\"0.002\", \"0.33\", \"0\", \"0.0036\", \"0\", \"0\", \"0\", \"0.00079\"],\n",
    "       [\"want\", \"0.0022\", \"0\", \"0.66\", \"0.0011\", \"0.0065\", \"0.0065\", \"0.0054\", \"0.0011\"],\n",
    "       [\"to\", \"0.00083\", \"0\", \"0.0017\", \"0.28\", \"0.00083\", \"0\", \"0.0025\", \"0.087\"],\n",
    "       [\"eat\", \"0\", \"0\", \"0.0027\", \"0\", \"0.021\", \"0.0027\", \"0.056\", \"0\"],\n",
    "       [\"chinese\", \"0.0063\", \"0\", \"0\", \"0\", \"0\", \"0.52\", \"0.0063\", \"0\"],\n",
    "       [\"food\", \"0.014\", \"0\", \"0.014\", \"0\", \"0.00092\", \"0.0037\", \"0\", \"0\"],\n",
    "       [\"lunch\", \"0.0059\", \"0\", \"0\", \"0\", \"0\", \"0.0029\", \"0\", \"0\"],\n",
    "       [\"spend\", \"0.0036\", \"0\", \"0.0036\", \"0\", \"0\", \"0\", \"0\", \"0\"]]"
   ]
  },
  {
   "cell_type": "code",
   "execution_count": 10,
   "id": "22b78bc7",
   "metadata": {},
   "outputs": [
    {
     "name": "stdout",
     "output_type": "stream",
     "text": [
      "               i  want      to     eat  chinese    food   lunch    spend\n",
      "                                                                        \n",
      "i          0.002  0.33       0  0.0036        0       0       0  0.00079\n",
      "want      0.0022     0    0.66  0.0011   0.0065  0.0065  0.0054   0.0011\n",
      "to       0.00083     0  0.0017    0.28  0.00083       0  0.0025    0.087\n",
      "eat            0     0  0.0027       0    0.021  0.0027   0.056        0\n",
      "chinese   0.0063     0       0       0        0    0.52  0.0063        0\n",
      "food       0.014     0   0.014       0  0.00092  0.0037       0        0\n",
      "lunch     0.0059     0       0       0        0  0.0029       0        0\n",
      "spend     0.0036     0  0.0036       0        0       0       0        0\n"
     ]
    }
   ],
   "source": [
    "import pandas as pd\n",
    "\n",
    "df = pd.DataFrame(tble)\n",
    "df = df[1:]\n",
    "df.columns = [\"\"] + tkns\n",
    "df = df.set_index(\"\")\n",
    "print(df)"
   ]
  },
  {
   "cell_type": "code",
   "execution_count": 13,
   "id": "e54253b1",
   "metadata": {},
   "outputs": [
    {
     "name": "stdout",
     "output_type": "stream",
     "text": [
      "i    token    token    token    token    token    token    token      probability\n",
      "---  -------  -------  -------  -------  -------  -------  -------  -------------\n",
      "i    want                                                                  0.33\n",
      "i    want     to                                                           0.2178\n",
      "i    want     to       eat                                                 0.061\n",
      "i    want     to       eat      chinese                                    0.0013\n",
      "i    want     to       eat      chinese  food                              0.0007\n",
      "i    want     to       eat      chinese  food     i                        0\n",
      "i    want     to       eat      chinese  food     i        want            0\n"
     ]
    }
   ],
   "source": [
    "output=[['i','token','token','token','token','token','token','token','probability'],\n",
    "       ['i','want',\"\",\"\",\"\",\"\",\"\",\"\",'0.3300'],\n",
    "       ['i','want','to',\"\",\"\",\"\",\"\",\"\",'0.2178'],\n",
    "       ['i','want','to','eat',\"\",\"\",\"\",\"\",'0.0610'],\n",
    "       ['i','want','to','eat','chinese',\"\",\"\",\"\",'0.0013'],\n",
    "       ['i','want','to','eat','chinese','food',\"\",\"\",'0.0007'],\n",
    "       ['i','want','to','eat','chinese','food','i',\"\",'0.0000'],\n",
    "       ['i','want','to','eat','chinese','food','i','want','0.0000']]\n",
    "\n",
    "print(tabulate(output,headers=\"firstrow\"))"
   ]
  }
 ],
 "metadata": {
  "kernelspec": {
   "display_name": "Python 3 (ipykernel)",
   "language": "python",
   "name": "python3"
  },
  "language_info": {
   "codemirror_mode": {
    "name": "ipython",
    "version": 3
   },
   "file_extension": ".py",
   "mimetype": "text/x-python",
   "name": "python",
   "nbconvert_exporter": "python",
   "pygments_lexer": "ipython3",
   "version": "3.7.13"
  }
 },
 "nbformat": 4,
 "nbformat_minor": 5
}
