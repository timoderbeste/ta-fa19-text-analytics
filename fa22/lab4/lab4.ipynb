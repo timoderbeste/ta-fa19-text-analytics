{
 "cells": [
  {
   "cell_type": "markdown",
   "id": "1b658f18",
   "metadata": {},
   "source": [
    "# Query News Articles with Named Entities"
   ]
  },
  {
   "cell_type": "markdown",
   "id": "316049ca",
   "metadata": {},
   "source": [
    "## Prepare the data and import common libs"
   ]
  },
  {
   "cell_type": "code",
   "execution_count": 1,
   "id": "3366c098",
   "metadata": {
    "scrolled": true
   },
   "outputs": [
    {
     "name": "stderr",
     "output_type": "stream",
     "text": [
      "Found cached dataset cnn_dailymail (/Users/timowang/.cache/huggingface/datasets/cnn_dailymail/3.0.0/3.0.0/1b3c71476f6d152c31c1730e83ccb08bcf23e348233f4fcc11e182248e6bf7de)\n"
     ]
    },
    {
     "data": {
      "application/vnd.jupyter.widget-view+json": {
       "model_id": "4d1ed0421e1c4ff19550ef7e4dd920a2",
       "version_major": 2,
       "version_minor": 0
      },
      "text/plain": [
       "  0%|          | 0/3 [00:00<?, ?it/s]"
      ]
     },
     "metadata": {},
     "output_type": "display_data"
    }
   ],
   "source": [
    "from tqdm import tqdm\n",
    "from datasets import load_dataset\n",
    "\n",
    "dataset = load_dataset(\"cnn_dailymail\", \"3.0.0\")"
   ]
  },
  {
   "cell_type": "code",
   "execution_count": 2,
   "id": "86c3b033",
   "metadata": {
    "scrolled": false
   },
   "outputs": [
    {
     "name": "stdout",
     "output_type": "stream",
     "text": [
      "len(articles) 11490\n"
     ]
    }
   ],
   "source": [
    "# For this activity, we will use the test articles only.\n",
    "articles = dataset[\"test\"][\"article\"]\n",
    "print(\"len(articles)\", len(articles))"
   ]
  },
  {
   "cell_type": "markdown",
   "id": "de21144d",
   "metadata": {},
   "source": [
    "## Apply NER to index articles with their named entities"
   ]
  },
  {
   "cell_type": "code",
   "execution_count": 3,
   "id": "f9ca588a",
   "metadata": {
    "scrolled": true
   },
   "outputs": [
    {
     "name": "stderr",
     "output_type": "stream",
     "text": [
      "2022-10-27 19:16:14.948386: I tensorflow/core/platform/cpu_feature_guard.cc:193] This TensorFlow binary is optimized with oneAPI Deep Neural Network Library (oneDNN) to use the following CPU instructions in performance-critical operations:  AVX2 FMA\n",
      "To enable them in other operations, rebuild TensorFlow with the appropriate compiler flags.\n"
     ]
    }
   ],
   "source": [
    "import spacy\n",
    "\n",
    "nlp = spacy.load(\"en_core_web_sm\")"
   ]
  },
  {
   "cell_type": "code",
   "execution_count": 17,
   "id": "12a0b210",
   "metadata": {},
   "outputs": [],
   "source": [
    "# TODO: Define a function that maps entities to the corresponding article indices and reverse.\n",
    "#       The function should only consider a list of selected named entity labels\n",
    "\n",
    "\n",
    "def link_entity_and_article_indices(articles, named_entities=[]):\n",
    "    label2ent2article_idxes = dict()\n",
    "    article_idx2label2ents = dict()\n",
    "\n",
    "    for idx, article in tqdm(enumerate(articles)):\n",
    "        doc = nlp(article)\n",
    "        article_idx2label2ents[idx] = dict()\n",
    "        for x in doc.ents:\n",
    "            if not named_entities or x.label_ in named_entities:\n",
    "                if x.label_ not in label2ent2article_idxes:\n",
    "                    label2ent2article_idxes[x.label_] = dict()\n",
    "                if x.text not in label2ent2article_idxes[x.label_]:\n",
    "                    label2ent2article_idxes[x.label_][x.text] = []\n",
    "                label2ent2article_idxes[x.label_][x.text].append(idx)\n",
    "                if x.label_ not in article_idx2label2ents[idx]:\n",
    "                    article_idx2label2ents[idx][x.label_] = set()\n",
    "                article_idx2label2ents[idx][x.label_].add(x.text)\n",
    "\n",
    "    return label2ent2article_idxes, article_idx2label2ents"
   ]
  },
  {
   "cell_type": "code",
   "execution_count": 18,
   "id": "54cc4d0f",
   "metadata": {},
   "outputs": [
    {
     "name": "stderr",
     "output_type": "stream",
     "text": [
      "11490it [14:18, 13.39it/s]\n"
     ]
    }
   ],
   "source": [
    "# Apply link_entity_and_article_indices to generate the indexing dictionaries for the following named entities\n",
    "# GPE, ORG, PERSON\n",
    "\n",
    "label2ent2article_idxes, article_idx2label2ents = \\\n",
    "    link_entity_and_article_indices(articles, \n",
    "                                  named_entities=[\"GPE\", \"ORG\", \"PERSON\"])"
   ]
  },
  {
   "cell_type": "markdown",
   "id": "498dfe5f",
   "metadata": {},
   "source": [
    "## Query for articles that contain specified entities"
   ]
  },
  {
   "cell_type": "code",
   "execution_count": 24,
   "id": "7c470b28",
   "metadata": {},
   "outputs": [],
   "source": [
    "# TODO: Implement the function that takes label2ent2article_idxes and a dictionary \n",
    "#       that maps entity labels to entity values (label2ents) and returns a list of article \n",
    "#       indices that contain the specified entities.\n",
    "\n",
    "def query_articles_with_entities(label2ent2article_idxes, label2ents):\n",
    "    article_idxes = set()\n",
    "    \n",
    "    for label in label2ents:\n",
    "        for ent in label2ents[label]:\n",
    "            if not ent in label2ent2article_idxes[label]:\n",
    "                continue\n",
    "            _article_idxes = label2ent2article_idxes[label][ent]\n",
    "            if not article_idxes:\n",
    "                article_idxes = set(_article_idxes)\n",
    "            else:\n",
    "                article_idxes = article_idxes.intersection(_article_idxes)\n",
    "    return article_idxes"
   ]
  },
  {
   "cell_type": "code",
   "execution_count": 27,
   "id": "fe66cd83",
   "metadata": {},
   "outputs": [
    {
     "name": "stdout",
     "output_type": "stream",
     "text": [
      "7\n"
     ]
    }
   ],
   "source": [
    "# Get a list of articles that contain certain entities\n",
    "\n",
    "article_idxes = query_articles_with_entities(label2ent2article_idxes, {\"GPE\": [\"Chicago\"], \"PERSON\": [\"Barack Obama\"]})\n",
    "print(len(article_idxes))"
   ]
  },
  {
   "cell_type": "markdown",
   "id": "c26629ac",
   "metadata": {},
   "source": [
    "## Display entities contained in an article"
   ]
  },
  {
   "cell_type": "code",
   "execution_count": 28,
   "id": "495c5709",
   "metadata": {},
   "outputs": [],
   "source": [
    "# TODO: Implement the function that takes a list of article, article_idx2label2ents and \n",
    "#       an article index as input and prints out the article content as well as\n",
    "#       related entities\n",
    "\n",
    "def print_article_content(articles, article_idx2label2ents, article_idx):\n",
    "    print(articles[article_idx])\n",
    "    for label in article_idx2label2ents[article_idx]:\n",
    "        print(\"%s\" % label)\n",
    "        for ent in article_idx2label2ents[article_idx][label]:\n",
    "            print(\"\\t%s\" % ent)\n",
    "            "
   ]
  },
  {
   "cell_type": "code",
   "execution_count": 29,
   "id": "4a65fcb5",
   "metadata": {},
   "outputs": [
    {
     "name": "stdout",
     "output_type": "stream",
     "text": [
      "(CNN)Jacob Lawrence's groundbreaking work, \"The Migration of the Negro,\" is a series of 60 small paintings with text depicting the lives of millions of pre-World War II blacks as they moved from the oppressive South to the promise of a better life in the North. One frame in particular, No. 22, shows three black men dressed in their Sunday best, handcuffed, heads bowed standing in front of a window adorned with prison bars. The caption reads: . \"Another of the social causes of the migrants' leaving was that at times they did not feel safe, or it was not the best thing to be found on the streets late at night. They were arrested on the slightest provocation.\" Lawrence painted this picture around 1940. This is important to know because there are some people who blame President Barack Obama for racial tension in America as if the March on Washington scrubbed away the lasting effects of 300 years of inequality. No. 22 was painted before hip-hop became the piñata for conservative talk show hosts to bash and before sagging pants became a popular fashion statement. Some of us keep looking for a new reason why this old problem continues to haunt us because to think otherwise requires effort. It's a lot easier to retweet a Dr. King meme. It is more convenient to say the violence began when rioters threw bricks at police and not when a city's Police Department began terrorizing its residents. We criticize Baltimore's mayor for not \"restoring order\" as if paying victims of police brutality nearly $6 million in a four-year span is \"order.\" Now, some people are partially blaming the 2013 movie \"The Purge\" for the uprising in Baltimore as if the 1996 riots in St. Petersburg, Florida, happened on a different planet. Or that the more than 100 cases of Baltimore police brutality that were either lost or settled out of court since 2011 provide no insight as to what the residents have been dealing with for some time. An 87-year-old grandmother had her shoulder broken by overzealous police, and Sen. Rand Paul -- God bless him -- suggested the rise in absentee fathers is the reason for this latest clash. It is true only 34% of black children live in a two-family household today, and I do believe that is a problem. Soul searching, as the President suggested, is something that needs to be had by all. But it is also true that 65% of black children lived with both parents in 1960, and yet there was still a lack of trust between the police and the minority community. Sen. Paul's rationale falls apart when you consider that John Henry Crawford III was shot and killed by police at a Walmart in Ohio while on the phone talking with the mother of his two children. Crawford's father was literally playing with his two grandchildren as his son was being gunned down. In 1971, Marvin Gaye cracked the Top 10 on the pop charts with \"Inner City Blues,\" which included the lines: . Crime is increasing . Trigger happy policing . Panic is spreading . God knows where we're heading . And yet so many look at the protests, uprisings and yes, sometimes riots, with this incredulous demeanor as if the raw emotions captured on camera are materializing out of thin air. No backdrop. No historical context. Television journalists asking questions that seem to characterize the recent developments as unexplained anger detached from any tangible issue. It is as if they believe the absence of burning crosses translated into peace and harmony. Meanwhile, Louisiana state police want people to believe Victor White III shot himself in the chest while handcuffed sitting in the back of a police car. How can there be peace when the Department of Justice found black residents in Ferguson were preyed upon for years by a corrupt Police Department? Where is the harmony when the average white household has 13 times the wealth of its black counterpart? And we know the impact wealth has on education, housing and mortality. Now there is video of police in Inkster, Michigan, celebrating the beating of a suspect as he sits nearby with broken ribs, a head injury and bleeding. The officers fist pump and laugh. One of them even appears to joyfully re-enact parts of the incident in plain view of Floyd Dent, the man in custody. And when the incident in question was under investigation, the Inkster Police Department suppressed the video. Two months would go by before the public saw what we are paying for. But at least we saw it. In Chicago, the police department has yet to release dash cam video of the fatal encounter officers had with 17-year-old Laquan McDonald last October. The report said an officer fired shots into McDonald's chest after the teen lunged at them with a knife. Witnesses said the shooting was unjustified. The autopsy shows McDonald was shot 16 times from a variety of angles by the officer. The City Council recently approved a $5 million settlement but maintains there was no wrongdoing. The video could shed some light on what really happened...which may explain why we have yet to see it. This comes on the heels of Mayor Rahm Emanuel establishing a $5.5 million reparations fund for victims of former CPD commander John Burge. For three decades Burge and his team ran a torture ring that used electric shock, burned and beat up more than 100 black men. And some look at Baltimore and the protests happening all around the country and wonder where all of this rage is coming from? This mistrust didn't come from somewhere. It's always been here. Woven in the comedic deliveries of Richard Pryor, Dick Gregory and Dave Chappelle; saturated within the prose of Lorraine Hansberry, Maya Angelou and Shonda Rhimes; heard in soulful cries of Billie Holiday's \"Strange Fruit\" to John Legend standing on an Oscar stage singing \"one day, when the glory comes it will be ours.\" For decades, the works of black artists have explicitly talked about the Baltimores of this country and though their work has been celebrated and curated, the message remains lost. Why else would someone believe sagging pants and hoodies are to blame for mass incarcerations? That President Obama is the reason why some blacks are frustrated with police and not the dynamic beautifully captured by Lawrence 75 years ago. Before President Richard Nixon started the war on drugs. Before Eric Garner started selling loose cigarettes in Staten Island. Before Baltimore became the setting of a critically acclaimed TV show. There isn't a new reason why Freddie Gray's death triggered outrage. Just new ways for people to validate apathy and explain away racism.\n",
      "PERSON\n",
      "\tMaya Angelou\n",
      "\tBarack Obama\n",
      "\tJohn Henry Crawford III\n",
      "\tDick Gregory\n",
      "\tFloyd Dent\n",
      "\tOscar\n",
      "\tRichard Nixon\n",
      "\tShonda Rhimes\n",
      "\tJohn Legend\n",
      "\tRahm Emanuel\n",
      "\tVictor White III\n",
      "\tCNN)Jacob Lawrence's\n",
      "\tJohn Burge\n",
      "\tRichard Pryor\n",
      "\tLorraine Hansberry\n",
      "\tRand Paul\n",
      "\tKing\n",
      "\tObama\n",
      "\tDave Chappelle\n",
      "\tLawrence\n",
      "\tLaquan McDonald\n",
      "\tEric Garner\n",
      "\tMarvin Gaye\n",
      "\tPaul\n",
      "\tBaltimore\n",
      "GPE\n",
      "\tLouisiana\n",
      "\tAmerica\n",
      "\tInkster\n",
      "\tOhio\n",
      "\tFerguson\n",
      "\tFlorida\n",
      "\tMichigan\n",
      "\tChicago\n",
      "\tWashington\n",
      "\tSt. Petersburg\n",
      "\tBaltimore\n",
      "ORG\n",
      "\tBurge\n",
      "\tFreddie Gray's\n",
      "\tWalmart\n",
      "\tMcDonald\n",
      "\tThe City Council\n",
      "\tCPD\n",
      "\tthe Department of Justice\n",
      "\tBillie Holiday's\n",
      "\tthe Inkster Police Department\n",
      "\tCrawford\n",
      "\tPolice Department\n",
      "Jen Psaki thought the offer to be President Barack Obama's communications director wouldn't last long. She figured White House chief of staff Denis McDonough hadn't heard she's expecting a baby girl in July. 'My immediate instinct in my head was to tell him I'm pregnant and this will be the end of this. He'll tell me good luck and be very kind about it and I'll be on my merry way,' said Psaki, who was serving as chief spokeswoman at the State Department. Instead McDonough - and later Obama himself - assured Psaki they would accommodate her needs as a new mom amid the West Wing's nonstop demands. She started in the post Wednesday and is one of two pregnant women serving as assistant to the president — a first for such a top level adviser in Obama's presidency and practically unheard of under previous presidents. A family-friendly administration: Obama aides Katie Fallon (left) and Jen Psaki (right) are expecting babies in May and July of this year. High-ranking female administration officials becoming pregnant  is virtually unheard of . What to expect when your expecting...in the White House: Psaki (left) says the White House knew she was pregnant when she was being considered for the communications director job, and that Mr Obama called her personally and assured her that maternity leave would not be an issue . Caring: Fallon (left) says the president is constantly checking up on her health, making sure she's attending her doctor's appointments. She is currently serving as the president's legislative director . Rahm Emanuel, Obama's first chief of staff and now Chicago mayor, once remarked that every White House says they'll be family-friendly, but it's never really a good workplace for any family except the president's. Yet Obama has pushed family-friendly policies like childcare, flexibility and paid leave, including instituting 12 weeks paid maternity leave for his own staff. But until now, he hasn't put it into practice in a very prominent way with few mothers of young children on his own senior team. 'All workplaces are adapting and that includes the White House,' said Obama legislative director Katie Beirne Fallon. She is scheduled to give birth to identical twin boys in May, just as her husband, Brian, plans to start as press secretary for Hillary Rodham Clinton's impending presidential campaign in New York. President Obama makes an effort himself to have dinner with his wife and daughters most nights. The first family pictured above in a portrait for Easter. From left: 16-year-old Malia Obama, Michelle Obama, Barack Obama and Sasha Obama, 13, with dogs Sunny and Bo . Fallon said she made it clear when she took her job that they were trying to start a family. She said everyone has been accommodating - from cooks at the mess hall where her lunch orders have included a baked potato topped with tuna fish and frozen yogurt with Raisin Bran, all the way up to the president. 'He's constantly checking in on me,' she said, urging her not to miss doctor's appointments and to put her health first. 'Don't let us get in the way of that,' she said he's told her. Fallon and Psaki both say they envision working more flexible hours so they can put their babies to bed. Press secretary Josh Earnest - one of several new fathers in the West Wing - says he tries to get home once a week before his baby is asleep. Obama tries to make it to dinner every night with his wife and daughters. 'I don't think it would be appropriate for me to be home at 6:30 every night in the way that he is,' Earnest said at a Center for American Progress forum. But he said Obama's actions signal to staff they can make family a priority. Times have changed. Joan Baggett Calambokidis, President Bill Clinton's political director, is one of the only other assistants to the president that former White House aides can remember having a baby on the job. She spent her delivery taking calls from the West Wing to discuss the choice of a new party chair. 'The doctor said, \"I see the baby's head, you have to get off the phone,\"' she said. After Calambokidis returned from maternity leave, a newspaper reported her doctor advised her to resign for health reasons because the job was too stressful - a rumor she said was fabricated to push her out. 'You can take off four months but you aren't able to be in there to do the turf battles that you need to do,' she said. New on the job: Psaki started her new job as White House communications director on Wednesday, after serving in the same position for the State Department. Mr Obama pictured above walking with Psaki into the West Wing of the White House . 'All workplaces are adapting and that includes the White House,' Fallon said. Pictured above with Mr Obama walking out of the West Wing last year . Rhonda Keenum was a mother of 1-year-old triplets when she started as President George W. Bush's director of public liaison - a deputy assistant to the president. She was shocked to get pregnant again at 44 - and she wasn't the only one. Keenum said Bush pointed at her aboard Air Force One and said, 'I want to know how that happened,' as the first lady kicked him under the table. 'I said, \"Sir, I got knocked up.\" It was the only time I ever was irreverent with him.' Keenum said she took just two weeks maternity leave - the White House a welcome getaway from four in diapers at home. 'I knew the White House opportunity was short-term and motherhood was not.' Psaki said as she discussed whether to take the job with her husband, Greg Mecher, chief of staff to Massachusetts Democratic Representative Joe Kennedy, Obama called and personally pledged to support her needs. She said he told her, 'My wife would be mad if I didn't convey that having a baby is a wonderful experience and the best thing I'll ever do, but it's also hard. And we'll make it work.'\n",
      "ORG\n",
      "\tthe White House: Psaki\n",
      "\ta Center for American Progress\n",
      "\tRahm Emanuel\n",
      "\tevery White House\n",
      "\tWhite House\n",
      "\tJen Psaki\n",
      "\tPsaki\n",
      "\tthe White House\n",
      "\tRaisin Bran\n",
      "\tthe State Department\n",
      "\tEaster\n",
      "PERSON\n",
      "\tKatie Fallon\n",
      "\tmotherhood\n",
      "\tRhonda Keenum\n",
      "\tBarack Obama\n",
      "\tBrian\n",
      "\tSasha Obama\n",
      "\tDenis McDonough\n",
      "\tJoe Kennedy\n",
      "\tBush\n",
      "\tGreg Mecher\n",
      "\tMalia Obama\n",
      "\tJosh Earnest - one\n",
      "\tPsaki\n",
      "\tObama\n",
      "\tKeenum\n",
      "\tJoan Baggett Calambokidis\n",
      "\tKatie Beirne Fallon\n",
      "\tHillary Rodham Clinton's\n",
      "\tBill Clinton\n",
      "\tGeorge W. Bush's\n",
      "\tMichelle Obama\n",
      "GPE\n",
      "\tMassachusetts\n",
      "\tNew York\n",
      "\tChicago\n",
      "Ed Miliband’s US adviser pays no tax in Britain on his reported £300,000 salary, he has admitted. David Axelrod masterminded two presidential election victories for Barack Obama and was hired by the Labour leader amid great fanfare last year. He has helped refine Mr Miliband’s message about tackling the cost of living and making sure the wealthy pay their fair share. Advisor: David Axelrod (right) masterminded two presidential election victories for Barack Obama (left). They are pictured together in February 2008 on a campaign aircraft in Idaho, nine months before his first win . And he will have been aware of Labour’s eye-catching crackdown on non-doms last week. But speaking in the US where he is promoting his autobiography, Mr Axelrod revealed he is not resident for tax purposes in the UK. Asked whether he pays tax in Britain, he told the Daily Telegraph: ‘I don’t do my accounting so I don’t know but I’m not in residence there.’ Labour confirmed it pays Mr Axelrod in dollars through his consultancy firm and that he ‘lives in the US, works in the US and pays taxes in the US’. Hired by the Labour leader: Mr Axelrod (right) has helped refine Ed Miliband’s message about tackling the cost of living and making sure the wealthy pay their fair share . Mr Axelrod makes infrequent visits to the UK to meet Mr Miliband and also offers advice by phone. Mr Miliband made his crackdown on those do not pay tax on their foreign earnings a key pledge in his manifesto. Some remain ‘non-domiciled’ for tax despite spending most of their time in the UK but others, critics of Mr Miliband have claimed, are genuinely only in the country for short periods. Labour frontbenchers have expressed concerns that despite his high salary, Mr Axelrod has been ‘invisible’ ahead of polling day. His biography does not mention his work for Mr Miliband. It is understood that Lynton Crosby, the Conservatives’ Australian election chief, pays full taxes on his earnings in both the UK and Australia, however he is currently working full-time in the UK. David Axelrod: Two presidential triumphs in the US . Behind David Axelrod's self-confessed 'tired and rumpled' appearance lies one of the sharpest political brains of his generation. He won fame in the US after helping to convince Americans to pick their first black president in 2008 and then helped Barack Obama's re-election four years later. But the two presidential triumphs are only the highest profile in a string of Democrat successes that have made the 60-year-old New Yorker a back room political superstar. It began 30 years ago when, fresh from quitting his job as the youngest ever political editor of the Chicago Tribune, he helped oust a three-term Republican senator for Illinois. Three years later, he was a key member of the team that helped re-elect Chicago's first black mayor Harold Washington. But he has not been as successful in Europe. Former Italian prime minister Mario Monti secured only 10.5 per cent of the vote in Italy in 2013 despite the guru's advice.\n",
      "PERSON\n",
      "\tBehind David Axelrod's\n",
      "\tBarack Obama's\n",
      "\tBarack Obama\n",
      "\tAxelrod\n",
      "\tLynton Crosby\n",
      "\tMario Monti\n",
      "\tDavid Axelrod\n",
      "\tEd Miliband’s\n",
      "\tHarold Washington\n",
      "GPE\n",
      "\tIdaho\n",
      "\tUS\n",
      "\tIllinois\n",
      "\tItaly\n",
      "\tAustralia\n",
      "\tBritain\n",
      "\tUK\n",
      "\tChicago\n",
      "ORG\n",
      "\tLabour\n",
      "\tNew Yorker\n",
      "\tthe Chicago Tribune\n",
      "\tthe Daily Telegraph: ‘\n",
      "President Barack Obama invited the Super Bowl champion New England Patriots to the White House on Thursday - but couldn't help but get one last deflategate joke in. The president opened his speech on the South Lawn by remarking 'that whole (deflategate) story got blown out of proportion,' referring to an investigation that 11 out of 12 footballs used in the AFC Championship game were under-inflated. But then came the zinger: 'I usually tell a bunch of jokes at these events, but with the Patriots in town I was worried that 11 out of 12 of them would fall flat.' Scroll down for video . Boo! Hiss! President Barack Obama elicited groans and a thumbs down from head coach Bill Belichick after cracking a deflategate joke while honoring the Super Bowl champion New England Patriots . Obama also quipped that he wished Chicago could learn something from Boston's championship-winning ways . Disapproval rating: Head coach Bill Belichick gives the thumbs down after Obama cracked a de-flate gate joke that left the whole team groaning . Obama received a custom jersey and a custom football from the team at the White House on Thursday . The Patriots assembled behind him groaned. Coach Bill Belichick, who is notoriously humorless, responded by giving the president a thumbs down. Obama was flanked by Belichick and billionaire Patriots owner Bob Kraft. Missing from the occasion, though was the Super Bowl MVP and the team's biggest star - Tom Brady. A spokesman for the team cited 'prior family commitments' as the reason Brady, 37, didn't attend the ceremony. Sports commentators, including retired football great Boomer Esiason, speculated that Brady snubbed Obama because he's from the 'wrong political party.' The superstar athlete has been to the White House before. He does have three other Super Bowl rings, afterall. But all the prior championships were under the Bush Administration. February's win was the first for the Patriots since Obama took office. Brady has also met Obama at least once before, as well. He was pictured with the then-US Senator  at the 2005 White House Correspondents dinner. Showoffs: The New England Patriots gathered the team's four Super Bowl trophies won under Coach Bill Belichick (right, next to President Barack Obama). Brady won his fourth Super Bowl ring in February - and his first since President Obama took office . Tom Brady met President Barack Obama at least once. He is pictured here with the then-US Senator and rival quarterback Donovan McNabb in 2005 . It's not clear what Brady's prior commitment was. His supermodel wife Gisele Bündchen, usually active on social media, gives no hint where the family is today if not in Washington. Brady led the Patriots to his fourth Super Bowl victory in February after defeating the Seattle Seahawks 28-24. Despite his arm and movement being somewhat diminished by age, Brady's leadership and calm under pressure also won him Super Bowl MVP - his third. Whatever is taking up Brady's time this week, he made time next week to be ringside at the Floyd Mayweather Jr.-Manny Pacquiao fight in Las Vegas next weekend. According to Sport Illustrated, Brady appealed directly to CBS president Les Moonves for tickets to the much-touted matchup. Patriots tight end Rob Gronkowski couldn't help but mug for the camera as the Commander in Chief gave a speech . Obama walks with billionaire Patriots owner Bob Kraft and coach Bellichick to the speech . Secretary of State John Kerry, a former Massachusetts US Senator, greets Belichick's girlfriend Linda Holliday at the ceremony . Brady went to the White House to meet President George W Bush after winning the Super Bowl in 2005 and in 2004. He's not going to be there this year . Patriots players Julian Edelman and Danny Amendola snap pics in the White House before meeting President Barack Obama on Thursday .\n",
      "PERSON\n",
      "\tBarack Obama\n",
      "\tLes Moonves\n",
      "\tLinda\n",
      "\tGisele Bündchen\n",
      "\tBoo\n",
      "\tFloyd Mayweather\n",
      "\tBellichick\n",
      "\tDanny Amendola\n",
      "\tGeorge W Bush\n",
      "\tBoomer Esiason\n",
      "\tRob Gronkowski\n",
      "\tBrady\n",
      "\tJohn Kerry\n",
      "\tJulian Edelman\n",
      "\tBob Kraft\n",
      "\tObama\n",
      "\tmug\n",
      "\tBill Belichick\n",
      "\tTom Brady\n",
      "\tDonovan McNabb\n",
      "ORG\n",
      "\tSuper Bowl MVP\n",
      "\tSport Illustrated\n",
      "\tCBS\n",
      "\tAFC Championship\n",
      "\tThe New England Patriots\n",
      "\tState\n",
      "\tNew England Patriots\n",
      "\tPatriots\n",
      "\tthe White House\n",
      "\tSeattle Seahawks\n",
      "\tthe Bush Administration\n",
      "GPE\n",
      "\tMassachusetts\n",
      "\tUS\n",
      "\tLas Vegas\n",
      "\tBoston\n",
      "\tWashington\n",
      "\tBelichick\n",
      "\tChicago\n",
      "(CNN)The nation's top stories will be unfolding Tuesday in courthouses and political arenas across the country. Massachusetts is hosting two of the highest-profile court trials in recent memory -- those of former New England Patriot Aaron Hernandez and Boston bombing suspect Dzhokhar Tsarnaev. Both lengthy trials are coming to a close. In Louisville, Kentucky, Sen. Rand Paul made the not-so-surprising announcement that he will run for president, while in Chicago, voters will head to the polls in a very surprising runoff between Mayor Rahm Emanuel and challenger Jesus \"Chuy\" Garcia. And in Ferguson, Missouri, the shadow of Michael Brown and the protests over his shooting by Officer Darren Wilson will loom large over the city's elections. Here's a breakdown of what to expect today and how we got here: . Tsarnaev, who's accused of detonating a bomb at the 2013 Boston Marathon along with his now-deceased brother, faces the stiffest of penalties -- life in prison or the death penalty -- if he's found guilty on any of 17 capital counts against him, including setting off weapons of mass destruction at a public event as an act of terrorism. The 13th juror: What defense? On Monday, survivors and victims' families wept and Tsarnaev fidgeted at a defense table as jurors heard a prosecutor allege that the 21-year-old \"brought terrorism into the backyards and main streets.\" The jury on Tuesday morning began what is expected to be a lengthy deliberation process on 30 total charges, before the so-called penalty phase, should he be found guilty on any counts. It took prosecutors months to present 131 witnesses to support their claim that Hernandez killed semi-pro player Odin Lloyd, yet on Monday, Hernandez's defense team wrapped up its witnesses in less than a day. Closing arguments are scheduled for Tuesday, and the jury will begin deliberations soon thereafter. Jurors in Fall River, Massachusetts, will be asked to decide if Hernandez is culpable in the shooting death of Lloyd, whose body was found in a Massachusetts industrial park in the summer of 2013. Much of the evidence against Hernandez is circumstantial, and among the facts the jury will be asked to take into consideration are New England Patriots owner Robert Kraft's testimony, the testimony of Hernandez's fiancee, some grainy footage from Hernandez's home security system and a footprint left by a Nike Air Jordan shoe. Hernandez known for swagger, even in court . OK, sure, no one was floored when the Kentucky senator announced his bid for the Oval Office, but of course it was news when he made it official Tuesday. Paul is expected to hit the campaign trail visiting the all-important early voters in New Hampshire, South Carolina, Iowa and Nevada. The physician rode a wave of tea party popularity into the Senate in 2010, where he carefully built a brand of mainstream libertarianism, and he is banking on a coalition of younger voters and traditional Republicans to usher him into the White House. Paul and Sen. Ted Cruz are the only declared candidates for the GOP nomination, though the field will certainly grow and could include the likes of Florida's Jeb Bush, New Jersey's Chris Christie, Wisconsin's Scott Walker, South Carolina's Lindsey Graham and Florida's Marco Rubio. Would Rand be here without Ron? It's the Windy City's first runoff for a citywide office, and it's being billed as a battle for the \"future of Chicago.\" In one corner, you have Emanuel, President Barack Obama's notoriously hard-charging former chief of staff, and in the other, you have Jesus \"Chuy\" Garcia, a county commissioner who has come to embody populist and liberal Democrats' frustrations with the Chicago incumbent. After Emanuel failed to snare half the vote in February's general election, he will go head-to-head with Garcia. The timing is interesting, too, as Easter, Passover and spring break appear to have spurred more than 142,000 early votes, up from about 90,000 before the first round of voting in February. Following Michael Brown's death, the national spotlight shone on Ferguson, particularly how the city's predominantly black population is woefully underrepresented in its police force and City Council. Yet with all the hubbub about the face of civic leadership, only four in 10 city residents hit the polls in November to cast ballots. Residents speak out ahead of vote . Tuesday's election will bring change, no matter how the ballots are cast: Two black men are running for one of the open seats, and the current lone black council member isn't up for re-election. In another ward, two black women and two white men are vying for an open seat. And a white protester is running for a third post.\n",
      "GPE\n",
      "\tMassachusetts\n",
      "\tLouisville\n",
      "\tMissouri\n",
      "\tFall River\n",
      "\tNevada\n",
      "\tNew Jersey's\n",
      "\tSouth Carolina's\n",
      "\tWisconsin\n",
      "\tFerguson\n",
      "\tFlorida\n",
      "\tBoston\n",
      "\tNew Hampshire\n",
      "\tIowa\n",
      "\tSouth Carolina\n",
      "\tKentucky\n",
      "\tChicago\n",
      "PERSON\n",
      "\tChris Christie\n",
      "\tScott Walker\n",
      "\tLindsey Graham\n",
      "\tMichael Brown's\n",
      "\tBarack Obama\n",
      "\tRobert Kraft's\n",
      "\tAaron Hernandez\n",
      "\tDarren Wilson\n",
      "\tMarco Rubio\n",
      "\tRahm Emanuel\n",
      "\tTed Cruz\n",
      "\tDzhokhar Tsarnaev\n",
      "\tRand Paul\n",
      "\tMichael Brown\n",
      "\tJeb Bush\n",
      "\tTsarnaev\n",
      "\tPaul\n",
      "\tRon\n",
      "\tGarcia\n",
      "\tOdin Lloyd\n",
      "ORG\n",
      "\tNike Air Jordan\n",
      "\tGOP\n",
      "\tNew England Patriots\n",
      "\tPaul\n",
      "\tEaster\n",
      "\tHernandez\n",
      "\tthe White House\n",
      "\tSenate\n",
      "\tCity Council\n",
      "\tthe Oval Office\n",
      "President Barack Obama has ordered the release of 22 drug dealers - including eight who were serving life sentences. Nearly all of the offenders who Obama granted clemency to were convicted of dealing addictive, hard drugs like crack cocaine, methamphetamine and heroin. Eight of those whose sentences were commuted - an act the White House said continues Obama's push to make the justice system fairer - were serving terms of life in prison. The effort is aimed at reducing harsh sentences for those who faced outdated guidelines at their time of sentencing and would be serving shorter punishments had they been convicted today. Barack Obama has granted clemency to 22 drug offenders who were sentenced under outdated guidelines . In December, Mr Obama issued his first round of commutations under new guidelines that were put in place to cut costs by reducing the growing prison population and grant leniency to nonviolent drug offenders sentenced to years long terms of confinement away from society. A commutation leaves the conviction in place and ends the punishment. Neil Eggleston, the White House counsel, said many of the 22 people whose federal sentences will be cut short by Mr Obama's action would already have served their time and paid the debt they owed society had they been sentenced under current laws and policies. 'Because many were convicted under an outdated sentencing regime, they served years - in some cases more than a decade - longer than individuals convicted today of the same crime,' Mr Eggleston said in a post on the White House blog. The 22 individuals, whose punishments will expire on July 28, were sentenced between 1992 and 2006. Mr Eggleston said Tuesday's commutations underscore Obama's 'commitment to using all the tools at his disposal to bring greater fairness and equity to our justice system.' Mr Obama has now approved a total of 43 commutations during more than six years in office. Mr Eggleston noted that Obama's predecessor, George W. Bush, had commuted 11 sentences during his two terms. Dwight Anthony Goddard (left) from Georgia, was imprisoned for 235 months for possession with intent to distribute cocaine base . In a letter, the president urged each individual to take advantage of the second chance he is giving them. The White House said it was the first time Obama had sent such letters. 'I am granting your application because you have demonstrated the potential to turn your life around. Now it is up to you to make the most of this opportunity,' he wrote. 'It will not be easy, and you will confront many who doubt people with criminal records can change. Perhaps even you are unsure of how you will adjust to your new circumstances. 'But remember that you have the capacity to make good choices,' Obama said. The nonprofit Drug Policy Alliance, which advocates for less stringent drug sentences, praised the commutations. 'The president's actions today are welcome,' said Michael Collins, policy manager at DPA's office of national affairs. He called on Congress to 'act quickly on substantive sentencing reform,' adding, 'It's time to rectify the U.S.'s embarrassing record on mass incarceration.' -Terry Andre Barnes, East Moline, Illinois. Conspiracy to distribute cocaine base; violation of supervised release. Sentenced to 246 months imprisonment. -Theresa Brown, Pompano Beach, Florida. Conspiracy to distribute crack cocaine. Sentenced to life in prison. -Donel Marcus Clark, Dallas. Conspiracy; use of a communication facility; distribution and/or possession of cocaine or manufacturing in or near a school facility, aiding and abetting. Sentenced to 420 months in prison, later amended to 360 months. -Ricky Bernard Coggins, Tallahassee, Florida. Conspiracy to possess with intent to distribute cocaine base. Sentenced to life imprisonment. -Samuel Pasqual Edmondson, of Junction City, Kansas. Conspiracy to possess methamphetamine with intent to distribute; possession with intent to distribute methamphetamine. Sentenced to life in prison. -Amado Garcia, Fresno, California. Conspiracy to possess with the intent to distribute methamphetamine; aiding and abetting the possession of methamphetamine; aiding and abetting the possession of heroin. Sentenced to 240 months in prison. Donel Marcus Clark (pictured), from Texas, was jailed for 420 months for distribution and/or possession of cocaine or manufacturing in or near a school facility . -Dwight Anthony Goddard, Decatur, Georgia. Possession with intent to distribute cocaine base. Sentenced to 235 months in prison. -Lionel Ray Hairston, of Ridgeway, Virginia. Distribution of cocaine base. Sentenced to 262 months in prison. -Francis Darrell Hayden, Loretto, Kentucky: Conspiracy to possess with intent to distribute 1,000 or more marijuana plants or 1,000 or more kilograms of marijuana; manufacture of 1,000 or more marijuana plants. Sentenced to life imprisonment. -Harold Kenneth Herring, Havana, Florida: Possession of a firearm by a convicted felon; possession with intent to distribute cocaine base. Sentenced to life imprisonment. -Tommie Lee Hollingshed, Memphis, Tennessee. Distribution of a controlled substance. Sentenced to 324 months imprisonment. -Derrick DeWayne Johnson, Birmingham, Alabama. Conspiracy to possess with intent to distribute cocaine; possession with intent to distribute cocaine. Sentenced to 360 months imprisonment. -Robert Martinez-Gil, San Antonio, Texas. Conspiracy to possess with intent to distribute cocaine and heroin. Sentenced to life imprisonment. -David Navejar, Brooksville, Florida. Conspiracy to distribute and to possess with intent to distribute 500 grams or more of methamphetamine. Sentenced to 240 months imprisonment. -Rudolph Norris, Washington, D.C. Unlawful distribution of cocaine base; unlawful possession with intent to distribute five grams or more of cocaine base. Sentenced to 360 months imprisonment. -Tracy Lynn Petty, Shelby, North Carolina. Conspiracy to possess with intent to distribute cocaine and cocaine base. Sentenced to 240 months imprisonment, later amended to 204 months. -Luis Razo, Davenport, Iowa. Conspiracy to distribute cocaine. Sentenced to 240 months imprisonment. -Antwon Rogers, Cleveland. Conspiracy to possess with intent to distribute 139.8 grams of cocaine base. Sentenced to life imprisonment. -Herman Rosenboro, Kingsport, Tennessee. Conspiracy to distribute and possess with the intent to distribute over five kilograms of cocaine and over 50 grams of cocaine base; distribution of a quantity of cocaine base; distribution of a quantity of cocaine. Sentenced to life imprisonment. -Lawrence Elmo Scott, Lynchburg, Virginia. Distribution of crack cocaine within 1,000 feet of a school. Sentenced to 283 months imprisonment. -Levar V. Wade, Chicago, Illinois. Possession of 50 or more grams of crack cocaine with intent to distribute. Sentenced to 240 months imprisonment. -Eugene Winters, Cedar Rapids, Iowa. Conspiracy to distribute cocaine base. Sentenced to 240 months in prison.\n",
      "PERSON\n",
      "\t-Tommie Lee Hollingshed\n",
      "\tMarcus Clark\n",
      "\tBarack Obama\n",
      "\tNeil Eggleston\n",
      "\tConspiracy\n",
      "\t-Amado Garcia\n",
      "\t-Lionel Ray Hairston\n",
      "\tMichael Collins\n",
      "\t-Francis Darrell Hayden\n",
      "\t-Robert Martinez-Gil\n",
      "\tcocaine base\n",
      "\t-Lawrence Elmo Scott\n",
      "\t-Eugene Winters\n",
      "\t-Dwight Anthony Goddard\n",
      "\t-Samuel Pasqual Edmondson\n",
      "\t-Rudolph Norris\n",
      "\t-Harold Kenneth Herring\n",
      "\tDwight Anthony Goddard\n",
      "\t-Luis Razo\n",
      "\t-David Navejar\n",
      "\tmarijuana\n",
      "\tObama\n",
      "\tGeorge W. Bush\n",
      "\tLynn Petty\n",
      "\t-Theresa Brown\n",
      "\t-Derrick DeWayne Johnson\n",
      "\tEggleston\n",
      "\tBernard Coggins\n",
      "\t-Levar V. Wade\n",
      "\t-Terry Andre Barnes\n",
      "\t-Antwon Rogers\n",
      "\t-Herman Rosenboro\n",
      "ORG\n",
      "\tDrug Policy Alliance\n",
      "\t-Donel Marcus Clark\n",
      "\tWhite House\n",
      "\tThe White House\n",
      "\tthe White House\n",
      "\tCongress\n",
      "\tDPA\n",
      "GPE\n",
      "\tGeorgia\n",
      "\tBirmingham\n",
      "\tCleveland\n",
      "\tBrooksville\n",
      "\tLoretto\n",
      "\tRidgeway\n",
      "\tHavana\n",
      "\tDavenport\n",
      "\tKansas\n",
      "\tLynchburg\n",
      "\tD.C.\n",
      "\tVirginia\n",
      "\tIllinois\n",
      "\tSan Antonio\n",
      "\tJunction City\n",
      "\tIowa\n",
      "\tU.S.\n",
      "\tKentucky\n",
      "\tCedar Rapids\n",
      "\tTallahassee\n",
      "\tShelby\n",
      "\tKingsport\n",
      "\tTexas\n",
      "\tTennessee\n",
      "\tPompano Beach\n",
      "\tMemphis\n",
      "\tFlorida\n",
      "\tEast Moline\n",
      "\tNorth Carolina\n",
      "\tFresno\n",
      "\tChicago\n",
      "\tCalifornia\n",
      "\tAlabama\n",
      "\tWashington\n",
      "\tDallas\n",
      "\tDecatur\n",
      "A gay couple getting married this summer had their wedding plans featured on Hillary Clinton's announcement that she is joining the race for the White House. Democrat campaigners Jared Milrad and Nate Johnson, from Chicago, Illinois, claimed they were surprised to find out that their same-sex wedding plans were featured on Sunday's video announcing Clinton's 2016 bid. The pair were seen walking hand in hand in what quickly became one of the most widely viewed political clips of the year. Milrad's voice is heard in a voiceover saying: 'I’m getting married this summer to someone I really care about.' Scroll down for videos . Jared Milrad (pictured right) and his fiancé Nate Johnson, who are campaigning Democrats, were featured in Hillary Clinton's video announcing her 2016 White House bid . The couple, who are planning a summer wedding, were featured walking hand in hand during Clinton's video to announce her 2016 bid for the White House . 'We were both out shopping, working on wedding invitations,' Milrad said of finding out about their new-found fame. He said he was overjoyed to be part of the Clinton rollout - and part of a large-scale change in U.S. social attitudes. 'It shows how far we've come,' said Milrad, 31-year-old lawyer and social activist, pleased that public support for same-sex marriage rights has grown so far as to appear in a presidential campaign launch. Mr Johnson, 30, is a project manager for a health care consulting company. The couple will get married in July in a Chicago park bordering Lake Michigan then have their reception at a LGBT community center, The Washington Blade reported. The couple told The Blade that they would be making financial contributions to Clinton's campaign and would volunteer. Both have previously volunteered in presidential campaigns. Johnson supported Clinton in 2008 while Milrad worked for Obama in New Hampshire. The gay couple were only one in a diverse series of aspirational Americans featured in the Clinton ad, which casts a broad demographic net as she hunts for a winning coalition of voters. The video also featured Spanish-speaking brothers preparing to start a business, a mother seeking to return to the work force, an Asian-American college graduate and expectant African-American parents. 'Everyday Americans need a champion, and I want to be that champion,' Clinton says on the video. 'So I'm hitting the road to earn your vote.' The vibrant clip, set to snappy music and featuring Clinton for less than half the video's length, is a dramatic departure from Clinton's drab announcement of seven years ago. The video which kicked off her former unsuccessful campaign showed Clinton on a couch, talking about ending the Iraq war, shrinking deficits and expanding affordable health care. Mr Milrad, who is the founder of social enterprise program the Civic Legal Corps, worked for Obama during the 2008 Democrat primaries in New Hampshire when the President was running against Clinton . Milrad, who is a lawyer and social campaigner, worked for Obama in New Hampshire during his 2008 White House bid . The couple pictured at the White House. They have been active campaigners in Democrat campaigns and plan to donate financially to Clinton's White House bid . It made no mention of same-sex unions. Barack Obama, the candidate who beat her to the White House, was personally opposed to gay marriage in 2008 and only recently converted to the cause. 'It's a sea change in progress that we see in our country,' Milrad said. Minutes after the Clinton announcement, Milrad took to Twitter to offer his endorsement -- and to invite Clinton to the upcoming Milrad-Johnson nuptials. 'We have not officially heard from Hillary,' admitted Johnson, a health consultant. 'We are going to extend an option of a plus-one for her. She'll probably want to bring someone.'\n",
      "PERSON\n",
      "\tBlade\n",
      "\tMilrad\n",
      "\tMilrad-Johnson\n",
      "\tHillary\n",
      "\tNate Johnson\n",
      "\tJared Milrad\n",
      "\tJohnson\n",
      "\tBarack Obama\n",
      "\tHillary Clinton's\n",
      "\tClinton\n",
      "ORG\n",
      "\tthe Civic Legal Corps\n",
      "\tWhite House\n",
      "\tthe White House\n",
      "\tThe Washington Blade\n",
      "\tLGBT\n",
      "GPE\n",
      "\tIllinois\n",
      "\tObama\n",
      "\tChicago\n",
      "\tU.S.\n",
      "\tNew Hampshire\n"
     ]
    }
   ],
   "source": [
    "for article_idx in article_idxes:\n",
    "    print_article_content(articles, article_idx2label2ents, article_idx)"
   ]
  }
 ],
 "metadata": {
  "kernelspec": {
   "display_name": "Python 3 (ipykernel)",
   "language": "python",
   "name": "python3"
  },
  "language_info": {
   "codemirror_mode": {
    "name": "ipython",
    "version": 3
   },
   "file_extension": ".py",
   "mimetype": "text/x-python",
   "name": "python",
   "nbconvert_exporter": "python",
   "pygments_lexer": "ipython3",
   "version": "3.7.13"
  }
 },
 "nbformat": 4,
 "nbformat_minor": 5
}
