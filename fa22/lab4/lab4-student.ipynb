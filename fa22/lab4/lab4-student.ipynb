{
 "cells": [
  {
   "cell_type": "markdown",
   "id": "1b658f18",
   "metadata": {},
   "source": [
    "# Query News Articles with Named Entities"
   ]
  },
  {
   "cell_type": "markdown",
   "id": "316049ca",
   "metadata": {},
   "source": [
    "## Prepare the data and import common libs"
   ]
  },
  {
   "cell_type": "code",
   "execution_count": 1,
   "id": "3366c098",
   "metadata": {
    "scrolled": true
   },
   "outputs": [
    {
     "name": "stderr",
     "output_type": "stream",
     "text": [
      "Found cached dataset cnn_dailymail (/Users/timowang/.cache/huggingface/datasets/cnn_dailymail/3.0.0/3.0.0/1b3c71476f6d152c31c1730e83ccb08bcf23e348233f4fcc11e182248e6bf7de)\n"
     ]
    },
    {
     "data": {
      "application/vnd.jupyter.widget-view+json": {
       "model_id": "5eade7be95084e0ea37ad389036cf8be",
       "version_major": 2,
       "version_minor": 0
      },
      "text/plain": [
       "  0%|          | 0/3 [00:00<?, ?it/s]"
      ]
     },
     "metadata": {},
     "output_type": "display_data"
    }
   ],
   "source": [
    "from tqdm import tqdm\n",
    "from datasets import load_dataset\n",
    "\n",
    "dataset = load_dataset(\"cnn_dailymail\", \"3.0.0\")"
   ]
  },
  {
   "cell_type": "code",
   "execution_count": 2,
   "id": "86c3b033",
   "metadata": {
    "scrolled": false
   },
   "outputs": [
    {
     "name": "stdout",
     "output_type": "stream",
     "text": [
      "len(articles) 11490\n"
     ]
    }
   ],
   "source": [
    "# For this activity, we will use the test articles only.\n",
    "articles = dataset[\"test\"][\"article\"]\n",
    "print(\"len(articles)\", len(articles))"
   ]
  },
  {
   "cell_type": "markdown",
   "id": "de21144d",
   "metadata": {},
   "source": [
    "## Apply NER to index articles with their named entities"
   ]
  },
  {
   "cell_type": "code",
   "execution_count": 3,
   "id": "f9ca588a",
   "metadata": {
    "scrolled": true
   },
   "outputs": [
    {
     "name": "stderr",
     "output_type": "stream",
     "text": [
      "2022-10-28 11:17:03.037786: I tensorflow/core/platform/cpu_feature_guard.cc:193] This TensorFlow binary is optimized with oneAPI Deep Neural Network Library (oneDNN) to use the following CPU instructions in performance-critical operations:  AVX2 FMA\n",
      "To enable them in other operations, rebuild TensorFlow with the appropriate compiler flags.\n"
     ]
    }
   ],
   "source": [
    "import spacy\n",
    "\n",
    "nlp = spacy.load(\"en_core_web_sm\")"
   ]
  },
  {
   "cell_type": "code",
   "execution_count": 4,
   "id": "12a0b210",
   "metadata": {},
   "outputs": [],
   "source": [
    "# TODO: Define a function that maps entities to the corresponding article indices and reverse.\n",
    "#       The function should only consider a list of selected named entity labels\n",
    "#       It should return two dictionaries: label2ent2article_idxes, article_idx2label2ents.\n",
    "\n",
    "\n",
    "def link_entity_and_article_indices(articles, named_entities=[]):\n",
    "    raise NotImplementedError"
   ]
  },
  {
   "cell_type": "code",
   "execution_count": 5,
   "id": "54cc4d0f",
   "metadata": {},
   "outputs": [],
   "source": [
    "# TODO: Apply link_entity_and_article_indices to generate the indexing dictionaries for the following named entities\n",
    "#       GPE, ORG, PERSON"
   ]
  },
  {
   "cell_type": "markdown",
   "id": "498dfe5f",
   "metadata": {},
   "source": [
    "## Query for articles that contain specified entities"
   ]
  },
  {
   "cell_type": "code",
   "execution_count": 6,
   "id": "7c470b28",
   "metadata": {},
   "outputs": [],
   "source": [
    "# TODO: Implement the function that takes label2ent2article_idxes and a dictionary \n",
    "#       that maps entity labels to entity values (label2ents) and returns a list of article \n",
    "#       indices that contain the specified entities, article_idxes.\n",
    "\n",
    "def query_articles_with_entities(label2ent2article_idxes, label2ents):\n",
    "    raise NotImplementedError"
   ]
  },
  {
   "cell_type": "code",
   "execution_count": 7,
   "id": "fe66cd83",
   "metadata": {},
   "outputs": [],
   "source": [
    "# Get a list of articles that contain certain entities: Chicago, Barack Obama"
   ]
  },
  {
   "cell_type": "markdown",
   "id": "c26629ac",
   "metadata": {},
   "source": [
    "## Display entities contained in an article"
   ]
  },
  {
   "cell_type": "code",
   "execution_count": 8,
   "id": "495c5709",
   "metadata": {},
   "outputs": [],
   "source": [
    "# TODO: Implement the function that takes a list of article, article_idx2label2ents and \n",
    "#       an article index as input and prints out the article content as well as\n",
    "#       related entities\n",
    "\n",
    "def print_article_content(articles, article_idx2label2ents, article_idx):\n",
    "    raise NotImplementedError"
   ]
  }
 ],
 "metadata": {
  "kernelspec": {
   "display_name": "Python 3 (ipykernel)",
   "language": "python",
   "name": "python3"
  },
  "language_info": {
   "codemirror_mode": {
    "name": "ipython",
    "version": 3
   },
   "file_extension": ".py",
   "mimetype": "text/x-python",
   "name": "python",
   "nbconvert_exporter": "python",
   "pygments_lexer": "ipython3",
   "version": "3.7.13"
  }
 },
 "nbformat": 4,
 "nbformat_minor": 5
}
